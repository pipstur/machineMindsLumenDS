{
 "cells": [
  {
   "cell_type": "code",
   "execution_count": 18,
   "metadata": {},
   "outputs": [],
   "source": [
    "import pandas as pd\n",
    "df = pd.read_parquet('../data/export_df.parquet')"
   ]
  },
  {
   "cell_type": "code",
   "execution_count": 19,
   "metadata": {},
   "outputs": [
    {
     "name": "stdout",
     "output_type": "stream",
     "text": [
      "<class 'pandas.core.frame.DataFrame'>\n",
      "RangeIndex: 119210 entries, 0 to 119209\n",
      "Data columns (total 14 columns):\n",
      " #   Column                         Non-Null Count   Dtype         \n",
      "---  ------                         --------------   -----         \n",
      " 0   hotel_id                       119210 non-null  int32         \n",
      " 1   datum_dolaska                  119210 non-null  datetime64[ns]\n",
      " 2   datum_kreiranja_rezervacije    119210 non-null  datetime64[ns]\n",
      " 3   datum_odjave                   119210 non-null  datetime64[ns]\n",
      " 4   datum_otkazivanja_rezervacije  44199 non-null   object        \n",
      " 5   broj_odraslih_gostiju          119210 non-null  int64         \n",
      " 6   broj_djece_gostiju             119210 non-null  float64       \n",
      " 7   zemlja_gosta                   119210 non-null  object        \n",
      " 8   kanal_prodaje_id               119210 non-null  int32         \n",
      " 9   tip_sobe_id                    119210 non-null  int32         \n",
      " 10  cijena_nocenja                 119210 non-null  float64       \n",
      " 11  status_rezervacije             119210 non-null  object        \n",
      " 12  rezervacija_id                 119210 non-null  int32         \n",
      " 13  gost_id                        119210 non-null  int32         \n",
      "dtypes: datetime64[ns](3), float64(2), int32(5), int64(1), object(3)\n",
      "memory usage: 10.5+ MB\n"
     ]
    }
   ],
   "source": [
    "df.info()"
   ]
  },
  {
   "cell_type": "code",
   "execution_count": 20,
   "metadata": {},
   "outputs": [
    {
     "data": {
      "text/plain": [
       "Check-Out    75011\n",
       "Canceled     42993\n",
       "No-Show       1206\n",
       "Name: status_rezervacije, dtype: int64"
      ]
     },
     "execution_count": 20,
     "metadata": {},
     "output_type": "execute_result"
    }
   ],
   "source": [
    "df['status_rezervacije'].value_counts()"
   ]
  },
  {
   "cell_type": "code",
   "execution_count": 21,
   "metadata": {},
   "outputs": [],
   "source": [
    "status_mapping = {'Check-Out': 0, 'Canceled': 1, 'No-Show': 2}\n",
    "\n",
    "df['status_rezervacije'] = df['status_rezervacije'].map(status_mapping)"
   ]
  },
  {
   "cell_type": "markdown",
   "metadata": {},
   "source": [
    "Ne mozemo bas da predvidjamo da li ce nam neko odustati, to nam nije zadatak, tako da predvidjamo samo za one koji su check inovali i checkoutovali, tj. zapravo okupirali hotele, pa zato filtriram sledece:"
   ]
  },
  {
   "cell_type": "code",
   "execution_count": 22,
   "metadata": {},
   "outputs": [],
   "source": [
    "df = df[df['status_rezervacije']==0]"
   ]
  },
  {
   "cell_type": "markdown",
   "metadata": {},
   "source": [
    "Sad otklanjam nepotrebne kolone"
   ]
  },
  {
   "cell_type": "code",
   "execution_count": 23,
   "metadata": {},
   "outputs": [],
   "source": [
    "df = df.drop(columns=['datum_otkazivanja_rezervacije','status_rezervacije','datum_kreiranja_rezervacije'], axis = 1)"
   ]
  },
  {
   "cell_type": "markdown",
   "metadata": {},
   "source": [
    "Kako ne bismo povecavali dimenzije dataseta drasticno (putem dummy variables), mapiramo numericki sve drzave u jednoj koloni, mada je moguce da ovo nije bas najbolja praksa, zbog kategorijske prirode drzava, mapirati ih direktno u skalare mozda nije u potpunosti mudro"
   ]
  },
  {
   "cell_type": "code",
   "execution_count": 24,
   "metadata": {},
   "outputs": [
    {
     "name": "stdout",
     "output_type": "stream",
     "text": [
      "       zemlja_gosta  zemlja_gosta_mapped\n",
      "0               PRT                    0\n",
      "1               PRT                    0\n",
      "2               GBR                    1\n",
      "3               GBR                    1\n",
      "4               GBR                    1\n",
      "...             ...                  ...\n",
      "119205          BEL                   13\n",
      "119206          FRA                    5\n",
      "119207          DEU                   12\n",
      "119208          ESP                    3\n",
      "119209          BEL                   13\n",
      "\n",
      "[75011 rows x 2 columns]\n"
     ]
    }
   ],
   "source": [
    "df['zemlja_gosta_mapped'] = pd.factorize(df['zemlja_gosta'])[0]\n",
    "print(df[['zemlja_gosta', 'zemlja_gosta_mapped']])"
   ]
  },
  {
   "cell_type": "code",
   "execution_count": 25,
   "metadata": {},
   "outputs": [],
   "source": [
    "df = df.drop(columns='zemlja_gosta', axis = 1)                             "
   ]
  },
  {
   "cell_type": "code",
   "execution_count": 26,
   "metadata": {},
   "outputs": [],
   "source": [
    "df['broj_gostiju'] = df['broj_djece_gostiju'] + df['broj_odraslih_gostiju']"
   ]
  },
  {
   "cell_type": "code",
   "execution_count": 27,
   "metadata": {},
   "outputs": [],
   "source": [
    "df = df.drop(columns = ['broj_djece_gostiju', 'broj_odraslih_gostiju'], axis = 1)"
   ]
  },
  {
   "cell_type": "code",
   "execution_count": 28,
   "metadata": {},
   "outputs": [
    {
     "name": "stdout",
     "output_type": "stream",
     "text": [
      "<class 'pandas.core.frame.DataFrame'>\n",
      "RangeIndex: 75011 entries, 0 to 75010\n",
      "Data columns (total 11 columns):\n",
      " #   Column               Non-Null Count  Dtype         \n",
      "---  ------               --------------  -----         \n",
      " 0   index                75011 non-null  int64         \n",
      " 1   hotel_id             75011 non-null  int32         \n",
      " 2   datum_dolaska        75011 non-null  datetime64[ns]\n",
      " 3   datum_odjave         75011 non-null  datetime64[ns]\n",
      " 4   kanal_prodaje_id     75011 non-null  int32         \n",
      " 5   tip_sobe_id          75011 non-null  int32         \n",
      " 6   cijena_nocenja       75011 non-null  float64       \n",
      " 7   rezervacija_id       75011 non-null  int32         \n",
      " 8   gost_id              75011 non-null  int32         \n",
      " 9   zemlja_gosta_mapped  75011 non-null  int64         \n",
      " 10  broj_gostiju         75011 non-null  float64       \n",
      "dtypes: datetime64[ns](2), float64(2), int32(5), int64(2)\n",
      "memory usage: 4.9 MB\n"
     ]
    }
   ],
   "source": [
    "df = df.reset_index()\n",
    "df.info()"
   ]
  },
  {
   "cell_type": "markdown",
   "metadata": {},
   "source": [
    "Razdvajamo u dva hotela jer cenim da ce oni imati razlicite sobe barem"
   ]
  },
  {
   "cell_type": "code",
   "execution_count": 29,
   "metadata": {},
   "outputs": [],
   "source": [
    "df1 = df[df['hotel_id']==1]\n",
    "df2 = df[df['hotel_id']!=1]"
   ]
  },
  {
   "cell_type": "markdown",
   "metadata": {},
   "source": [
    "Ovo sam eksportovao kasnije mozda za loadovanje, mada nije neophodno"
   ]
  },
  {
   "cell_type": "code",
   "execution_count": 30,
   "metadata": {},
   "outputs": [],
   "source": [
    "df1.to_csv('../prep_data/prepped1.csv')\n",
    "df2.to_csv('../prep_data/prepped0.csv')"
   ]
  },
  {
   "cell_type": "markdown",
   "metadata": {},
   "source": [
    "Ovde sam relativno uspesno pokusao da napravim funkciju koja sracunava broj gostiju za svaki datum.. mada mi se cini da je moglo jednostavnije. Al u sustini ovo uzima intervale ako su izmedju datuma dolaska i rezervacije i dodaje na njih broj_gostiju te konkretne rezervacije.\n",
    "\n",
    "Pritom je wildly neefikasan algoritam moglo bi zasigurno bolje al ovo je za sad"
   ]
  },
  {
   "cell_type": "code",
   "execution_count": 31,
   "metadata": {},
   "outputs": [],
   "source": [
    "def calculate_total_occupancy(input_df, frequency='D'):\n",
    "    df = input_df.copy()\n",
    "\n",
    "    date_range = pd.date_range(df['datum_dolaska'].min(), df['datum_odjave'].max(), freq=frequency)\n",
    "\n",
    "    occupancy_df = pd.DataFrame(index=date_range, columns=['total_occupancy'])\n",
    "\n",
    "    for _, reservation in df.iterrows():\n",
    "        occupied_days = pd.date_range(reservation['datum_dolaska'], reservation['datum_odjave'], freq=frequency)\n",
    "        occupancy_df.loc[occupied_days, 'total_occupancy'] = occupancy_df.loc[occupied_days, 'total_occupancy'].add(reservation['broj_gostiju'], fill_value=0)\n",
    "\n",
    "    # merdzujemo datume dolaska kako bi se mapirale vrednosti korektno\n",
    "    df = pd.merge(df, occupancy_df, left_on='datum_dolaska', right_index=True, how='left')\n",
    "\n",
    "    df.drop_duplicates(subset='datum_dolaska', keep='first', inplace=True)\n",
    "    df = df[df['total_occupancy'].notnull()]\n",
    "    return df[['datum_dolaska','total_occupancy']]"
   ]
  },
  {
   "cell_type": "code",
   "execution_count": 32,
   "metadata": {},
   "outputs": [
    {
     "name": "stdout",
     "output_type": "stream",
     "text": [
      "      datum_dolaska total_occupancy\n",
      "28927    2015-11-01           193.0\n",
      "28928    2015-07-02            58.0\n",
      "28929    2015-10-03           235.0\n",
      "28930    2015-07-03            67.0\n",
      "28931    2015-12-03           223.0\n",
      "...             ...             ...\n",
      "68107    2017-10-24           349.0\n",
      "68229    2017-10-25           381.0\n",
      "68278    2017-05-25           238.0\n",
      "68333    2017-05-27           256.0\n",
      "68427    2017-05-28           261.0\n",
      "\n",
      "[940 rows x 2 columns]\n"
     ]
    }
   ],
   "source": [
    "result_df1 = calculate_total_occupancy(df1)\n",
    "print(result_df1)"
   ]
  },
  {
   "cell_type": "code",
   "execution_count": 33,
   "metadata": {},
   "outputs": [
    {
     "name": "stdout",
     "output_type": "stream",
     "text": [
      "      datum_dolaska total_occupancy\n",
      "0        2015-07-01            72.0\n",
      "28       2015-07-02           140.0\n",
      "54       2015-07-03           190.0\n",
      "77       2015-07-04           248.0\n",
      "100      2015-07-05           310.0\n",
      "...             ...             ...\n",
      "27580    2017-07-27           495.0\n",
      "27679    2017-07-30           501.0\n",
      "27737    2017-07-31           497.0\n",
      "27902    2017-08-05           530.0\n",
      "28717    2017-08-30           460.0\n",
      "\n",
      "[793 rows x 2 columns]\n"
     ]
    }
   ],
   "source": [
    "result_df2 = calculate_total_occupancy(df2)\n",
    "print(result_df2)"
   ]
  },
  {
   "cell_type": "markdown",
   "metadata": {},
   "source": [
    "Postavljam indekse radi eksportovanja"
   ]
  },
  {
   "cell_type": "code",
   "execution_count": 34,
   "metadata": {},
   "outputs": [],
   "source": [
    "result_df1 = result_df1.set_index('datum_dolaska')\n",
    "result_df2 = result_df2.set_index('datum_dolaska')"
   ]
  },
  {
   "cell_type": "markdown",
   "metadata": {},
   "source": [
    "Napravite folder prep_data pre narednog cell-a"
   ]
  },
  {
   "cell_type": "code",
   "execution_count": 35,
   "metadata": {},
   "outputs": [],
   "source": [
    "result_df2.to_csv('../prep_data/hotelid0_daily_occupancy.csv')\n",
    "result_df1.to_csv('../prep_data/hotelid1_daily_occupancy.csv')"
   ]
  },
  {
   "cell_type": "markdown",
   "metadata": {},
   "source": [
    "Sad treba isto uraditi za nedeljno i mesecno, naredni cell ce se dugo izvrsavati jer python a i kod mi nije najefikasniji i dalje, ali samo strpljivo"
   ]
  },
  {
   "cell_type": "code",
   "execution_count": 36,
   "metadata": {},
   "outputs": [],
   "source": [
    "result_weekly_df1 = calculate_total_occupancy(df1, frequency='W-Mon') # W-Mon je za nedelje i da pocnu u ponedeljak\n",
    "result_monthly_df1 = calculate_total_occupancy(df1, frequency='M')\n",
    "\n",
    "result_weekly_df2 = calculate_total_occupancy(df2, frequency='W-Mon')\n",
    "result_monthly_df2 = calculate_total_occupancy(df2, frequency='M')"
   ]
  },
  {
   "cell_type": "code",
   "execution_count": 37,
   "metadata": {},
   "outputs": [],
   "source": [
    "result_weekly_df1  = result_weekly_df1.set_index('datum_dolaska')\n",
    "result_monthly_df1 = result_monthly_df1.set_index('datum_dolaska')\n",
    "\n",
    "result_weekly_df2  = result_weekly_df2.set_index('datum_dolaska')\n",
    "result_monthly_df2 = result_monthly_df2.set_index('datum_dolaska')"
   ]
  },
  {
   "cell_type": "code",
   "execution_count": 38,
   "metadata": {},
   "outputs": [
    {
     "data": {
      "text/html": [
       "<div>\n",
       "<style scoped>\n",
       "    .dataframe tbody tr th:only-of-type {\n",
       "        vertical-align: middle;\n",
       "    }\n",
       "\n",
       "    .dataframe tbody tr th {\n",
       "        vertical-align: top;\n",
       "    }\n",
       "\n",
       "    .dataframe thead th {\n",
       "        text-align: right;\n",
       "    }\n",
       "</style>\n",
       "<table border=\"1\" class=\"dataframe\">\n",
       "  <thead>\n",
       "    <tr style=\"text-align: right;\">\n",
       "      <th></th>\n",
       "      <th>total_occupancy</th>\n",
       "    </tr>\n",
       "    <tr>\n",
       "      <th>datum_dolaska</th>\n",
       "      <th></th>\n",
       "    </tr>\n",
       "  </thead>\n",
       "  <tbody>\n",
       "    <tr>\n",
       "      <th>2015-05-04</th>\n",
       "      <td>82.0</td>\n",
       "    </tr>\n",
       "    <tr>\n",
       "      <th>2015-05-11</th>\n",
       "      <td>165.0</td>\n",
       "    </tr>\n",
       "    <tr>\n",
       "      <th>2015-05-18</th>\n",
       "      <td>167.0</td>\n",
       "    </tr>\n",
       "    <tr>\n",
       "      <th>2015-07-20</th>\n",
       "      <td>56.0</td>\n",
       "    </tr>\n",
       "    <tr>\n",
       "      <th>2015-11-23</th>\n",
       "      <td>236.0</td>\n",
       "    </tr>\n",
       "  </tbody>\n",
       "</table>\n",
       "</div>"
      ],
      "text/plain": [
       "              total_occupancy\n",
       "datum_dolaska                \n",
       "2015-05-04               82.0\n",
       "2015-05-11              165.0\n",
       "2015-05-18              167.0\n",
       "2015-07-20               56.0\n",
       "2015-11-23              236.0"
      ]
     },
     "execution_count": 38,
     "metadata": {},
     "output_type": "execute_result"
    }
   ],
   "source": [
    "result_weekly_df1.head()"
   ]
  },
  {
   "cell_type": "code",
   "execution_count": 39,
   "metadata": {},
   "outputs": [
    {
     "data": {
      "text/html": [
       "<div>\n",
       "<style scoped>\n",
       "    .dataframe tbody tr th:only-of-type {\n",
       "        vertical-align: middle;\n",
       "    }\n",
       "\n",
       "    .dataframe tbody tr th {\n",
       "        vertical-align: top;\n",
       "    }\n",
       "\n",
       "    .dataframe thead th {\n",
       "        text-align: right;\n",
       "    }\n",
       "</style>\n",
       "<table border=\"1\" class=\"dataframe\">\n",
       "  <thead>\n",
       "    <tr style=\"text-align: right;\">\n",
       "      <th></th>\n",
       "      <th>total_occupancy</th>\n",
       "    </tr>\n",
       "    <tr>\n",
       "      <th>datum_dolaska</th>\n",
       "      <th></th>\n",
       "    </tr>\n",
       "  </thead>\n",
       "  <tbody>\n",
       "    <tr>\n",
       "      <th>2015-11-30</th>\n",
       "      <td>241.0</td>\n",
       "    </tr>\n",
       "    <tr>\n",
       "      <th>2015-07-31</th>\n",
       "      <td>34.0</td>\n",
       "    </tr>\n",
       "    <tr>\n",
       "      <th>2015-05-31</th>\n",
       "      <td>95.0</td>\n",
       "    </tr>\n",
       "    <tr>\n",
       "      <th>2015-08-31</th>\n",
       "      <td>116.0</td>\n",
       "    </tr>\n",
       "    <tr>\n",
       "      <th>2015-01-31</th>\n",
       "      <td>9.0</td>\n",
       "    </tr>\n",
       "  </tbody>\n",
       "</table>\n",
       "</div>"
      ],
      "text/plain": [
       "              total_occupancy\n",
       "datum_dolaska                \n",
       "2015-11-30              241.0\n",
       "2015-07-31               34.0\n",
       "2015-05-31               95.0\n",
       "2015-08-31              116.0\n",
       "2015-01-31                9.0"
      ]
     },
     "execution_count": 39,
     "metadata": {},
     "output_type": "execute_result"
    }
   ],
   "source": [
    "result_monthly_df1.head()"
   ]
  },
  {
   "cell_type": "code",
   "execution_count": 41,
   "metadata": {},
   "outputs": [],
   "source": [
    "df0_occupancy = pd.read_csv(\"../prep_data/hotelid0_daily_occupancy.csv\")\n",
    "df0_dataset = pd.read_csv(\"../prep_data/prepped0.csv\")\n",
    "\n",
    "df0_occupancy['datum_dolaska'] = pd.to_datetime(df0_occupancy['datum_dolaska'])\n",
    "df0_dataset['datum_dolaska'] = pd.to_datetime(df0_dataset['datum_dolaska'])\n",
    "\n",
    "df0 = pd.merge(df0_dataset, df0_occupancy, on='datum_dolaska', how='left')\n",
    "df0 = df0.drop(columns = [\"Unnamed: 0\", \"broj_gostiju\",\"index\",\"hotel_id\"])\n",
    "df0.to_csv('../prep_data/hotelid1_daily_merged.csv')"
   ]
  },
  {
   "cell_type": "code",
   "execution_count": 42,
   "metadata": {},
   "outputs": [],
   "source": [
    "df1_occupancy = pd.read_csv(\"../prep_data/hotelid1_daily_occupancy.csv\")\n",
    "df1_dataset = pd.read_csv(\"../prep_data/prepped1.csv\")\n",
    "\n",
    "df1_occupancy['datum_dolaska'] = pd.to_datetime(df1_occupancy['datum_dolaska'])\n",
    "df1_dataset['datum_dolaska'] = pd.to_datetime(df1_dataset['datum_dolaska'])\n",
    "\n",
    "df1 = pd.merge(df1_dataset, df1_occupancy, on='datum_dolaska', how='left')\n",
    "df1 = df1.drop(columns = [\"Unnamed: 0\", \"broj_gostiju\",\"index\",\"hotel_id\"])\n",
    "df1.to_csv('../prep_data/hotelid1_daily_merged.csv')"
   ]
  }
 ],
 "metadata": {
  "kernelspec": {
   "display_name": "Python 3",
   "language": "python",
   "name": "python3"
  },
  "language_info": {
   "codemirror_mode": {
    "name": "ipython",
    "version": 3
   },
   "file_extension": ".py",
   "mimetype": "text/x-python",
   "name": "python",
   "nbconvert_exporter": "python",
   "pygments_lexer": "ipython3",
   "version": "3.10.7"
  }
 },
 "nbformat": 4,
 "nbformat_minor": 2
}
