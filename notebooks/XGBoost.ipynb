{
 "cells": [
  {
   "cell_type": "code",
   "execution_count": 45,
   "metadata": {},
   "outputs": [],
   "source": [
    "import pandas as pd \n",
    "df = pd.read_csv(\"../prep_data/hotelid0_daily_merged.csv\")"
   ]
  },
  {
   "cell_type": "code",
   "execution_count": 46,
   "metadata": {},
   "outputs": [
    {
     "name": "stdout",
     "output_type": "stream",
     "text": [
      "<class 'pandas.core.frame.DataFrame'>\n",
      "RangeIndex: 46084 entries, 0 to 46083\n",
      "Data columns (total 10 columns):\n",
      " #   Column               Non-Null Count  Dtype  \n",
      "---  ------               --------------  -----  \n",
      " 0   Unnamed: 0           46084 non-null  int64  \n",
      " 1   datum_dolaska        46084 non-null  object \n",
      " 2   datum_odjave         46084 non-null  object \n",
      " 3   kanal_prodaje_id     46084 non-null  int64  \n",
      " 4   tip_sobe_id          46084 non-null  int64  \n",
      " 5   cijena_nocenja       46084 non-null  float64\n",
      " 6   rezervacija_id       46084 non-null  int64  \n",
      " 7   gost_id              46084 non-null  int64  \n",
      " 8   zemlja_gosta_mapped  46084 non-null  int64  \n",
      " 9   total_occupancy      46084 non-null  float64\n",
      "dtypes: float64(2), int64(6), object(2)\n",
      "memory usage: 3.5+ MB\n"
     ]
    }
   ],
   "source": [
    "df.info()"
   ]
  },
  {
   "cell_type": "code",
   "execution_count": 47,
   "metadata": {},
   "outputs": [],
   "source": [
    "df = df.drop(columns=[\"Unnamed: 0\"], axis=1)"
   ]
  },
  {
   "cell_type": "markdown",
   "metadata": {},
   "source": [
    "Kako bi random forest algoritam mogao da razume vremenske serije moramo iz datuma izvuci odredjene podatke, kao sto je to u narednom cell-u"
   ]
  },
  {
   "cell_type": "code",
   "execution_count": 48,
   "metadata": {},
   "outputs": [],
   "source": [
    "df['datum_dolaska'] = pd.to_datetime(df['datum_dolaska'])\n",
    "df['datum_odjave'] = pd.to_datetime(df['datum_odjave'])\n",
    "\n",
    "df['day_of_week'] = df['datum_dolaska'].dt.day_of_week\n",
    "df['month'] = df['datum_dolaska'].dt.month\n",
    "df['year'] = df['datum_dolaska'].dt.year\n",
    "df['week_of_year'] = df['datum_dolaska'].dt.isocalendar().week\n",
    "df['week_of_month'] = df['datum_dolaska'].dt.day // 7 + 1"
   ]
  },
  {
   "cell_type": "code",
   "execution_count": 49,
   "metadata": {},
   "outputs": [
    {
     "data": {
      "text/html": [
       "<div>\n",
       "<style scoped>\n",
       "    .dataframe tbody tr th:only-of-type {\n",
       "        vertical-align: middle;\n",
       "    }\n",
       "\n",
       "    .dataframe tbody tr th {\n",
       "        vertical-align: top;\n",
       "    }\n",
       "\n",
       "    .dataframe thead th {\n",
       "        text-align: right;\n",
       "    }\n",
       "</style>\n",
       "<table border=\"1\" class=\"dataframe\">\n",
       "  <thead>\n",
       "    <tr style=\"text-align: right;\">\n",
       "      <th></th>\n",
       "      <th>datum_dolaska</th>\n",
       "      <th>datum_odjave</th>\n",
       "      <th>kanal_prodaje_id</th>\n",
       "      <th>tip_sobe_id</th>\n",
       "      <th>cijena_nocenja</th>\n",
       "      <th>rezervacija_id</th>\n",
       "      <th>gost_id</th>\n",
       "      <th>zemlja_gosta_mapped</th>\n",
       "      <th>total_occupancy</th>\n",
       "      <th>day_of_week</th>\n",
       "      <th>month</th>\n",
       "      <th>year</th>\n",
       "      <th>week_of_year</th>\n",
       "      <th>week_of_month</th>\n",
       "    </tr>\n",
       "  </thead>\n",
       "  <tbody>\n",
       "    <tr>\n",
       "      <th>46079</th>\n",
       "      <td>2017-08-30</td>\n",
       "      <td>2017-09-06</td>\n",
       "      <td>2</td>\n",
       "      <td>1</td>\n",
       "      <td>83.444595</td>\n",
       "      <td>1432428</td>\n",
       "      <td>1063376</td>\n",
       "      <td>13</td>\n",
       "      <td>359.0</td>\n",
       "      <td>2</td>\n",
       "      <td>8</td>\n",
       "      <td>2017</td>\n",
       "      <td>35</td>\n",
       "      <td>5</td>\n",
       "    </tr>\n",
       "    <tr>\n",
       "      <th>46080</th>\n",
       "      <td>2017-08-31</td>\n",
       "      <td>2017-09-07</td>\n",
       "      <td>2</td>\n",
       "      <td>3</td>\n",
       "      <td>201.924145</td>\n",
       "      <td>1432429</td>\n",
       "      <td>1088912</td>\n",
       "      <td>5</td>\n",
       "      <td>358.0</td>\n",
       "      <td>3</td>\n",
       "      <td>8</td>\n",
       "      <td>2017</td>\n",
       "      <td>35</td>\n",
       "      <td>5</td>\n",
       "    </tr>\n",
       "    <tr>\n",
       "      <th>46081</th>\n",
       "      <td>2017-08-31</td>\n",
       "      <td>2017-09-07</td>\n",
       "      <td>2</td>\n",
       "      <td>2</td>\n",
       "      <td>148.455148</td>\n",
       "      <td>1432430</td>\n",
       "      <td>1101990</td>\n",
       "      <td>12</td>\n",
       "      <td>358.0</td>\n",
       "      <td>3</td>\n",
       "      <td>8</td>\n",
       "      <td>2017</td>\n",
       "      <td>35</td>\n",
       "      <td>5</td>\n",
       "    </tr>\n",
       "    <tr>\n",
       "      <th>46082</th>\n",
       "      <td>2017-08-31</td>\n",
       "      <td>2017-09-07</td>\n",
       "      <td>2</td>\n",
       "      <td>1</td>\n",
       "      <td>101.498939</td>\n",
       "      <td>1432431</td>\n",
       "      <td>1053323</td>\n",
       "      <td>3</td>\n",
       "      <td>358.0</td>\n",
       "      <td>3</td>\n",
       "      <td>8</td>\n",
       "      <td>2017</td>\n",
       "      <td>35</td>\n",
       "      <td>5</td>\n",
       "    </tr>\n",
       "    <tr>\n",
       "      <th>46083</th>\n",
       "      <td>2017-10-29</td>\n",
       "      <td>2017-11-07</td>\n",
       "      <td>2</td>\n",
       "      <td>1</td>\n",
       "      <td>193.709372</td>\n",
       "      <td>1432432</td>\n",
       "      <td>1013647</td>\n",
       "      <td>13</td>\n",
       "      <td>360.0</td>\n",
       "      <td>6</td>\n",
       "      <td>10</td>\n",
       "      <td>2017</td>\n",
       "      <td>43</td>\n",
       "      <td>5</td>\n",
       "    </tr>\n",
       "  </tbody>\n",
       "</table>\n",
       "</div>"
      ],
      "text/plain": [
       "      datum_dolaska datum_odjave  kanal_prodaje_id  tip_sobe_id  \\\n",
       "46079    2017-08-30   2017-09-06                 2            1   \n",
       "46080    2017-08-31   2017-09-07                 2            3   \n",
       "46081    2017-08-31   2017-09-07                 2            2   \n",
       "46082    2017-08-31   2017-09-07                 2            1   \n",
       "46083    2017-10-29   2017-11-07                 2            1   \n",
       "\n",
       "       cijena_nocenja  rezervacija_id  gost_id  zemlja_gosta_mapped  \\\n",
       "46079       83.444595         1432428  1063376                   13   \n",
       "46080      201.924145         1432429  1088912                    5   \n",
       "46081      148.455148         1432430  1101990                   12   \n",
       "46082      101.498939         1432431  1053323                    3   \n",
       "46083      193.709372         1432432  1013647                   13   \n",
       "\n",
       "       total_occupancy  day_of_week  month  year  week_of_year  week_of_month  \n",
       "46079            359.0            2      8  2017            35              5  \n",
       "46080            358.0            3      8  2017            35              5  \n",
       "46081            358.0            3      8  2017            35              5  \n",
       "46082            358.0            3      8  2017            35              5  \n",
       "46083            360.0            6     10  2017            43              5  "
      ]
     },
     "execution_count": 49,
     "metadata": {},
     "output_type": "execute_result"
    }
   ],
   "source": [
    "df.tail()"
   ]
  },
  {
   "cell_type": "code",
   "execution_count": 50,
   "metadata": {},
   "outputs": [],
   "source": [
    "from sklearn.model_selection import train_test_split\n",
    "X = df.drop(columns=[\"total_occupancy\", \"datum_dolaska\", \"datum_odjave\", \"rezervacija_id\"], axis=1)\n",
    "y = df[\"total_occupancy\"]\n",
    "X_train, X_test, y_train, y_test = train_test_split(X,y, train_size=0.8, random_state=27)"
   ]
  },
  {
   "cell_type": "code",
   "execution_count": 51,
   "metadata": {},
   "outputs": [
    {
     "name": "stdout",
     "output_type": "stream",
     "text": [
      "Mean RMSE: 73.10480225140398\n",
      "Mean R2: 0.7627583221489023\n"
     ]
    }
   ],
   "source": [
    "from sklearn.model_selection import TimeSeriesSplit\n",
    "from sklearn.ensemble import RandomForestRegressor\n",
    "from sklearn.metrics import mean_squared_error\n",
    "import numpy as np\n",
    "\n",
    "tscv = TimeSeriesSplit(n_splits=5)\n",
    "\n",
    "model = RandomForestRegressor(random_state=27, n_jobs=-1, min_samples_split =3, max_samples=800, n_estimators=73)\n",
    "\n",
    "rmse_scores = []\n",
    "r2_scores = []\n",
    "\n",
    "for train_index, test_index in tscv.split(X):\n",
    "    X_train, X_test = X.iloc[train_index], X.iloc[test_index]\n",
    "    y_train, y_test = y.iloc[train_index], y.iloc[test_index]\n",
    "\n",
    "    model.fit(X_train, y_train)\n",
    "\n",
    "    y_pred = model.predict(X_test)\n",
    "\n",
    "    rmse = np.sqrt(mean_squared_error(y_test, y_pred))\n",
    "    r2 = r2_score(y_test, y_pred)\n",
    "    r2_scores.append(r2)\n",
    "    rmse_scores.append(rmse)\n",
    "\n",
    "print(\"Mean RMSE:\", np.mean(rmse_scores))\n",
    "print(\"Mean R2:\", np.mean(r2_scores))"
   ]
  },
  {
   "cell_type": "markdown",
   "metadata": {},
   "source": [
    "### XGBoost algoritam ###"
   ]
  },
  {
   "cell_type": "code",
   "execution_count": 52,
   "metadata": {},
   "outputs": [
    {
     "name": "stdout",
     "output_type": "stream",
     "text": [
      "Mean Absolute Error (XGB): 6.529002778375176\n",
      "Mean Squared Error (XGB): 83.16291108491528\n",
      "Root Mean Squared Error (XGB): 9.11937010351676\n",
      "R2 (XGB): 0.9984326506001197\n"
     ]
    }
   ],
   "source": [
    "from sklearn.model_selection import train_test_split\n",
    "\n",
    "# Assume X is your feature matrix and y is your target variable\n",
    "X_train, X_test, y_train, y_test = train_test_split(X, y, test_size=0.2, random_state=42)\n",
    "\n",
    "# Train the model on the training data\n",
    "xgb_model.fit(X_train, y_train)\n",
    "\n",
    "# Make predictions on the test data\n",
    "y_pred_xgb = xgb_model.predict(X_test)\n",
    "\n",
    "# Calculate metrics on the test data\n",
    "mae_xgb = mean_absolute_error(y_test, y_pred_xgb)\n",
    "mse_xgb = mean_squared_error(y_test, y_pred_xgb)\n",
    "rmse_xgb = np.sqrt(mse_xgb)\n",
    "r2_xgb = r2_score(y_test, y_pred_xgb)\n",
    "\n",
    "# Print metrics\n",
    "print(f'Mean Absolute Error (XGB): {mae_xgb}')\n",
    "print(f'Mean Squared Error (XGB): {mse_xgb}')\n",
    "print(f'Root Mean Squared Error (XGB): {rmse_xgb}')\n",
    "print(f'R2 (XGB): {r2_xgb}')"
   ]
  },
  {
   "cell_type": "markdown",
   "metadata": {},
   "source": [
    "### Optimizacija hiperparametara ###"
   ]
  },
  {
   "cell_type": "code",
   "execution_count": 53,
   "metadata": {},
   "outputs": [
    {
     "name": "stdout",
     "output_type": "stream",
     "text": [
      "Fitting 3 folds for each of 432 candidates, totalling 1296 fits\n",
      "Best parameters: {'colsample_bytree': 1.0, 'learning_rate': 0.2, 'max_depth': 10, 'n_estimators': 300, 'subsample': 1.0}\n",
      "Best score: -5.573835970150281\n"
     ]
    }
   ],
   "source": [
    "from sklearn.model_selection import GridSearchCV\n",
    "\n",
    "# Define the parameter grid\n",
    "param_grid = {\n",
    "    'n_estimators': [100, 200, 300],\n",
    "    'max_depth': [2, 3, 5, 10],\n",
    "    'learning_rate': [0.01, 0.1, 0.2],\n",
    "    'subsample': [0.5, 0.7, 1.0],\n",
    "    'colsample_bytree': [0.4, 0.6, 0.8, 1.0]\n",
    "}\n",
    "\n",
    "# Create a GridSearchCV object\n",
    "grid_search = GridSearchCV(estimator=xgb.XGBRegressor(objective ='reg:squarederror'),\n",
    "                           param_grid=param_grid,\n",
    "                           cv=3,\n",
    "                           scoring='neg_mean_squared_error',\n",
    "                           verbose=2,\n",
    "                           n_jobs=-1)\n",
    "\n",
    "# Perform the grid search\n",
    "grid_search.fit(X_train, y_train)\n",
    "\n",
    "# Print the best parameters and the best score\n",
    "print(f'Best parameters: {grid_search.best_params_}')\n",
    "print(f'Best score: {grid_search.best_score_}')"
   ]
  },
  {
   "cell_type": "code",
   "execution_count": 54,
   "metadata": {},
   "outputs": [
    {
     "name": "stdout",
     "output_type": "stream",
     "text": [
      "Mean Absolute Error (Best XGB): 0.7367164971474855\n",
      "Mean Squared Error (Best XGB): 1.9737937742586131\n",
      "Root Mean Squared Error (Best XGB): 1.404917710849505\n",
      "R2 (Best XGB): 0.9999628004305379\n"
     ]
    }
   ],
   "source": [
    "# Get the best parameters\n",
    "best_params = grid_search.best_params_\n",
    "\n",
    "# Create a new XGBoost model with the best parameters\n",
    "best_xgb_model = xgb.XGBRegressor(objective ='reg:squarederror', \n",
    "                                  n_estimators=best_params['n_estimators'], \n",
    "                                  max_depth=best_params['max_depth'], \n",
    "                                  learning_rate=best_params['learning_rate'], \n",
    "                                  subsample=best_params['subsample'], \n",
    "                                  colsample_bytree=best_params['colsample_bytree'])\n",
    "\n",
    "# Train the model on the training data\n",
    "best_xgb_model.fit(X_train, y_train)\n",
    "\n",
    "# Make predictions on the test data\n",
    "y_pred_best_xgb = best_xgb_model.predict(X_test)\n",
    "\n",
    "# Calculate metrics on the test data\n",
    "mae_best_xgb = mean_absolute_error(y_test, y_pred_best_xgb)\n",
    "mse_best_xgb = mean_squared_error(y_test, y_pred_best_xgb)\n",
    "rmse_best_xgb = np.sqrt(mse_best_xgb)\n",
    "r2_best_xgb = r2_score(y_test, y_pred_best_xgb)\n",
    "\n",
    "# Print metrics\n",
    "print(f'Mean Absolute Error (Best XGB): {mae_best_xgb}')\n",
    "print(f'Mean Squared Error (Best XGB): {mse_best_xgb}')\n",
    "print(f'Root Mean Squared Error (Best XGB): {rmse_best_xgb}')\n",
    "print(f'R2 (Best XGB): {r2_best_xgb}')\n",
    "\n",
    "\n"
   ]
  },
  {
   "cell_type": "code",
   "execution_count": 59,
   "metadata": {},
   "outputs": [
    {
     "name": "stdout",
     "output_type": "stream",
     "text": [
      "kanal_prodaje_id: 4.322041604609694e-06\n",
      "tip_sobe_id: 5.316095666785259e-06\n",
      "cijena_nocenja: 9.739016604726203e-06\n",
      "gost_id: 4.61956869912683e-06\n",
      "zemlja_gosta_mapped: 1.1041129255318083e-05\n",
      "day_of_week: 0.013638485223054886\n",
      "month: 0.4259885251522064\n",
      "year: 0.4625515043735504\n",
      "week_of_year: 0.08977869153022766\n",
      "week_of_month: 0.0080077163875103\n"
     ]
    },
    {
     "data": {
      "image/png": "[encoded data removed]",
      "text/plain": [
       "<Figure size 1000x600 with 1 Axes>"
      ]
     },
     "metadata": {},
     "output_type": "display_data"
    }
   ],
   "source": [
    "import matplotlib.pyplot as plt\n",
    "\n",
    "\n",
    "# Get feature importances\n",
    "feature_importances = best_xgb_model.feature_importances_\n",
    "\n",
    "# Create a dictionary of feature importances\n",
    "feature_importance_dict = dict(zip(X.columns, feature_importances))\n",
    "\n",
    "# Print the feature importances\n",
    "for feature, importance in feature_importance_dict.items():\n",
    "    print(f'{feature}: {importance}')\n",
    "    \n",
    "\n",
    "# Sort the dictionary by values in descending order\n",
    "feature_importance_dict_sorted = dict(sorted(feature_importance_dict.items(), key=lambda item: item[1], reverse=True))\n",
    "\n",
    "# Create lists of feature names and importances\n",
    "features = list(feature_importance_dict_sorted.keys())\n",
    "importances = list(feature_importance_dict_sorted.values())\n",
    "\n",
    "# Create a bar plot\n",
    "plt.figure(figsize=(10, 6))\n",
    "plt.barh(features, importances, color='skyblue')\n",
    "plt.xlabel('Importance')\n",
    "plt.title('Feature Importances')\n",
    "plt.gca().invert_yaxis()  # Invert the y-axis so the feature with the highest importance is at the top\n",
    "plt.grid()\n",
    "plt.show()"
   ]
  }
 ],
 "metadata": {
  "kernelspec": {
   "display_name": "Python 3",
   "language": "python",
   "name": "python3"
  },
  "language_info": {
   "codemirror_mode": {
    "name": "ipython",
    "version": 3
   },
   "file_extension": ".py",
   "mimetype": "text/x-python",
   "name": "python",
   "nbconvert_exporter": "python",
   "pygments_lexer": "ipython3",
   "version": "3.11.8"
  }
 },
 "nbformat": 4,
 "nbformat_minor": 2
}
