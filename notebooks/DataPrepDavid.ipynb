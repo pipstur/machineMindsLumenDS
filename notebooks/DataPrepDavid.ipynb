{
 "cells": [
  {
   "cell_type": "code",
   "execution_count": 1,
   "metadata": {},
   "outputs": [],
   "source": [
    "import pandas as pd\n",
    "df = pd.read_parquet('../data/train.parquet')"
   ]
  },
  {
   "cell_type": "code",
   "execution_count": 2,
   "metadata": {},
   "outputs": [
    {
     "name": "stdout",
     "output_type": "stream",
     "text": [
      "<class 'pandas.core.frame.DataFrame'>\n",
      "RangeIndex: 31634 entries, 0 to 31633\n",
      "Data columns (total 24 columns):\n",
      " #   Column              Non-Null Count  Dtype         \n",
      "---  ------              --------------  -----         \n",
      " 0   reservation_id      31634 non-null  int64         \n",
      " 1   night_number        31634 non-null  float64       \n",
      " 2   stay_date           31634 non-null  datetime64[ns]\n",
      " 3   guest_id            31634 non-null  int64         \n",
      " 4   guest_country_id    31634 non-null  object        \n",
      " 5   reservation_status  31634 non-null  object        \n",
      " 6   reservation_date    31634 non-null  object        \n",
      " 7   date_from           31634 non-null  object        \n",
      " 8   date_to             31634 non-null  object        \n",
      " 9   resort_id           31634 non-null  int64         \n",
      " 10  cancel_date         6151 non-null   object        \n",
      " 11  room_cnt            31634 non-null  int64         \n",
      " 12  adult_cnt           31634 non-null  int64         \n",
      " 13  children_cnt        31634 non-null  int64         \n",
      " 14  price               27860 non-null  float64       \n",
      " 15  price_tax           27860 non-null  float64       \n",
      " 16  total_price_tax     28076 non-null  float64       \n",
      " 17  total_price         28076 non-null  float64       \n",
      " 18  food_price          27860 non-null  float64       \n",
      " 19  food_price_tax      27860 non-null  float64       \n",
      " 20  other_price         27860 non-null  float64       \n",
      " 21  other_price_tax     27860 non-null  float64       \n",
      " 22  room_category_id    31634 non-null  int64         \n",
      " 23  sales_channel_id    31634 non-null  float64       \n",
      "dtypes: datetime64[ns](1), float64(10), int64(7), object(6)\n",
      "memory usage: 5.8+ MB\n"
     ]
    }
   ],
   "source": [
    "df.info()"
   ]
  },
  {
   "cell_type": "code",
   "execution_count": 64,
   "metadata": {},
   "outputs": [
    {
     "name": "stdout",
     "output_type": "stream",
     "text": [
      "0         HR\n",
      "1         HR\n",
      "2         HR\n",
      "3         GB\n",
      "4         HR\n",
      "        ... \n",
      "31629     HR\n",
      "31630      I\n",
      "31631     HR\n",
      "31632    SLO\n",
      "31633     HR\n",
      "Name: guest_country_id, Length: 31634, dtype: object\n"
     ]
    }
   ],
   "source": [
    "print(df['guest_country_id'])\n"
   ]
  },
  {
   "cell_type": "code",
   "execution_count": 65,
   "metadata": {},
   "outputs": [
    {
     "data": {
      "text/plain": [
       "reservation_status\n",
       "Checked-out    25483\n",
       "Cancelled       6038\n",
       "No-show          113\n",
       "Name: count, dtype: int64"
      ]
     },
     "execution_count": 65,
     "metadata": {},
     "output_type": "execute_result"
    }
   ],
   "source": [
    "df['reservation_status'].value_counts()"
   ]
  },
  {
   "cell_type": "code",
   "execution_count": 66,
   "metadata": {},
   "outputs": [],
   "source": [
    "status_mapping = {'Check-Out': 0, 'Canceled': 1, 'No-Show': 2}\n",
    "\n",
    "df['reservation_status'] = df['reservation_status'].map(status_mapping)"
   ]
  },
  {
   "cell_type": "markdown",
   "metadata": {},
   "source": [
    "Ne mozemo bas da predvidjamo da li ce nam neko odustati, to nam nije zadatak, tako da predvidjamo samo za one koji su check inovali i checkoutovali, tj. zapravo okupirali hotele, pa zato filtriram sledece:"
   ]
  },
  {
   "cell_type": "code",
   "execution_count": 67,
   "metadata": {},
   "outputs": [],
   "source": [
    "df = df[df['reservation_status']==0]"
   ]
  },
  {
   "cell_type": "markdown",
   "metadata": {},
   "source": [
    "Sad otklanjam nepotrebne kolone"
   ]
  },
  {
   "cell_type": "code",
   "execution_count": 68,
   "metadata": {},
   "outputs": [],
   "source": [
    "df = df.drop(columns=['cancel_date','reservation_status','reservation_date'], axis = 1)"
   ]
  },
  {
   "cell_type": "markdown",
   "metadata": {},
   "source": [
    "Kako ne bismo povecavali dimenzije dataseta drasticno (putem dummy variables), mapiramo numericki sve drzave u jednoj koloni, mada je moguce da ovo nije bas najbolja praksa, zbog kategorijske prirode drzava, mapirati ih direktno u skalare mozda nije u potpunosti mudro"
   ]
  },
  {
   "cell_type": "code",
   "execution_count": 69,
   "metadata": {},
   "outputs": [
    {
     "name": "stdout",
     "output_type": "stream",
     "text": [
      "Empty DataFrame\n",
      "Columns: [guest_country_id, zemlja_gosta_mapped]\n",
      "Index: []\n"
     ]
    }
   ],
   "source": [
    "df['zemlja_gosta_mapped'] = pd.factorize(df['guest_country_id'])[0]\n",
    "print(df[['guest_country_id', 'zemlja_gosta_mapped']])"
   ]
  },
  {
   "cell_type": "code",
   "execution_count": 70,
   "metadata": {},
   "outputs": [],
   "source": [
    "df = df.drop(columns='guest_country_id', axis = 1)                             "
   ]
  },
  {
   "cell_type": "code",
   "execution_count": 71,
   "metadata": {},
   "outputs": [],
   "source": [
    "df['room_cnt'] = df['children_cnt'] + df['adult_cnt']"
   ]
  },
  {
   "cell_type": "code",
   "execution_count": 72,
   "metadata": {},
   "outputs": [],
   "source": [
    "df = df.drop(columns = ['children_cnt', 'adult_cnt'], axis = 1)"
   ]
  },
  {
   "cell_type": "code",
   "execution_count": 73,
   "metadata": {},
   "outputs": [
    {
     "name": "stdout",
     "output_type": "stream",
     "text": [
      "<class 'pandas.core.frame.DataFrame'>\n",
      "RangeIndex: 0 entries\n",
      "Data columns (total 20 columns):\n",
      " #   Column               Non-Null Count  Dtype         \n",
      "---  ------               --------------  -----         \n",
      " 0   index                0 non-null      int64         \n",
      " 1   reservation_id       0 non-null      int64         \n",
      " 2   night_number         0 non-null      float64       \n",
      " 3   stay_date            0 non-null      datetime64[ns]\n",
      " 4   guest_id             0 non-null      int64         \n",
      " 5   date_from            0 non-null      object        \n",
      " 6   date_to              0 non-null      object        \n",
      " 7   resort_id            0 non-null      int64         \n",
      " 8   room_cnt             0 non-null      int64         \n",
      " 9   price                0 non-null      float64       \n",
      " 10  price_tax            0 non-null      float64       \n",
      " 11  total_price_tax      0 non-null      float64       \n",
      " 12  total_price          0 non-null      float64       \n",
      " 13  food_price           0 non-null      float64       \n",
      " 14  food_price_tax       0 non-null      float64       \n",
      " 15  other_price          0 non-null      float64       \n",
      " 16  other_price_tax      0 non-null      float64       \n",
      " 17  room_category_id     0 non-null      int64         \n",
      " 18  sales_channel_id     0 non-null      float64       \n",
      " 19  zemlja_gosta_mapped  0 non-null      int64         \n",
      "dtypes: datetime64[ns](1), float64(10), int64(7), object(2)\n",
      "memory usage: 132.0+ bytes\n"
     ]
    }
   ],
   "source": [
    "df = df.reset_index()\n",
    "df.info()"
   ]
  },
  {
   "cell_type": "markdown",
   "metadata": {},
   "source": [
    "Razdvajamo u dva hotela jer cenim da ce oni imati razlicite sobe barem"
   ]
  },
  {
   "cell_type": "code",
   "execution_count": 74,
   "metadata": {},
   "outputs": [],
   "source": [
    "df1 = df[df['resort_id']==1]\n",
    "df2 = df[df['resort_id']!=1]"
   ]
  },
  {
   "cell_type": "markdown",
   "metadata": {},
   "source": [
    "Ovo sam eksportovao kasnije mozda za loadovanje, mada nije neophodno"
   ]
  },
  {
   "cell_type": "code",
   "execution_count": 75,
   "metadata": {},
   "outputs": [],
   "source": [
    "df1.to_csv('../prep_data/prepped1_new.csv')\n",
    "df2.to_csv('../prep_data/prepped0_new.csv')"
   ]
  },
  {
   "cell_type": "code",
   "execution_count": 76,
   "metadata": {},
   "outputs": [],
   "source": [
    "# Ensure the 'date_from' column is in datetime format\n",
    "#df['date_from'] = pd.to_datetime(df['date_from'])\n",
    "#df['date_to'] = pd.to_datetime(df['date_to'])\n",
    "# Set 'date_from' as the index\n"
   ]
  },
  {
   "cell_type": "markdown",
   "metadata": {},
   "source": [
    "Ovde sam relativno uspesno pokusao da napravim funkciju koja sracunava broj gostiju za svaki datum.. mada mi se cini da je moglo jednostavnije. Al u sustini ovo uzima intervale ako su izmedju datuma dolaska i rezervacije i dodaje na njih broj_gostiju te konkretne rezervacije.\n",
    "\n",
    "Pritom je wildly neefikasan algoritam moglo bi zasigurno bolje al ovo je za sad"
   ]
  },
  {
   "cell_type": "code",
   "execution_count": 77,
   "metadata": {},
   "outputs": [],
   "source": [
    "def calculate_total_occupancy(input_df, frequency='D'):\n",
    "    df = input_df.copy()\n",
    "\n",
    "    date_range = pd.date_range(df['date_from'].min(), df['date_to'].max(), freq=frequency)\n",
    "\n",
    "    occupancy_df = pd.DataFrame(index=date_range, columns=['total_occupancy'])\n",
    "\n",
    "    for _, reservation in df.iterrows():\n",
    "        occupied_days = pd.date_range(reservation['date_from'], reservation['date_to'], freq=frequency)\n",
    "        occupancy_df.loc[occupied_days, 'total_occupancy'] = occupancy_df.loc[occupied_days, 'total_occupancy'].add(reservation['room_cnt'], fill_value=0)\n",
    "\n",
    "    # merdzujemo datume dolaska kako bi se mapirale vrednosti korektno\n",
    "    df = pd.merge(df, occupancy_df, left_on='date_from', right_index=True, how='left')\n",
    "\n",
    "    df.drop_duplicates(subset='date_from', keep='first', inplace=True)\n",
    "    df = df[df['total_occupancy'].notnull()]\n",
    "    return df[['date_from','total_occupancy']]"
   ]
  },
  {
   "cell_type": "markdown",
   "metadata": {},
   "source": [
    "## Tu baci gresku indicates that either the minimum value (df['date_from'].min()) or the maximum value (df['date_to'].max()) in your DataFrame is a NaT (Not a Time) value, which is a special value denoting a missing or null date/time.###\n",
    "\n",
    "#probao prebaciti u time series date from i to i opet neka druga gresk#"
   ]
  },
  {
   "cell_type": "code",
   "execution_count": 78,
   "metadata": {},
   "outputs": [
    {
     "ename": "ValueError",
     "evalue": "Neither `start` nor `end` can be NaT",
     "output_type": "error",
     "traceback": [
      "\u001b[1;31m---------------------------------------------------------------------------\u001b[0m",
      "\u001b[1;31mValueError\u001b[0m                                Traceback (most recent call last)",
      "Cell \u001b[1;32mIn[78], line 1\u001b[0m\n\u001b[1;32m----> 1\u001b[0m result_df1 \u001b[38;5;241m=\u001b[39m \u001b[43mcalculate_total_occupancy\u001b[49m\u001b[43m(\u001b[49m\u001b[43mdf1\u001b[49m\u001b[43m)\u001b[49m\n\u001b[0;32m      2\u001b[0m \u001b[38;5;28mprint\u001b[39m(result_df1)\n",
      "Cell \u001b[1;32mIn[77], line 4\u001b[0m, in \u001b[0;36mcalculate_total_occupancy\u001b[1;34m(input_df, frequency)\u001b[0m\n\u001b[0;32m      1\u001b[0m \u001b[38;5;28;01mdef\u001b[39;00m \u001b[38;5;21mcalculate_total_occupancy\u001b[39m(input_df, frequency\u001b[38;5;241m=\u001b[39m\u001b[38;5;124m'\u001b[39m\u001b[38;5;124mD\u001b[39m\u001b[38;5;124m'\u001b[39m):\n\u001b[0;32m      2\u001b[0m     df \u001b[38;5;241m=\u001b[39m input_df\u001b[38;5;241m.\u001b[39mcopy()\n\u001b[1;32m----> 4\u001b[0m     date_range \u001b[38;5;241m=\u001b[39m \u001b[43mpd\u001b[49m\u001b[38;5;241;43m.\u001b[39;49m\u001b[43mdate_range\u001b[49m\u001b[43m(\u001b[49m\u001b[43mdf\u001b[49m\u001b[43m[\u001b[49m\u001b[38;5;124;43m'\u001b[39;49m\u001b[38;5;124;43mdate_from\u001b[39;49m\u001b[38;5;124;43m'\u001b[39;49m\u001b[43m]\u001b[49m\u001b[38;5;241;43m.\u001b[39;49m\u001b[43mmin\u001b[49m\u001b[43m(\u001b[49m\u001b[43m)\u001b[49m\u001b[43m,\u001b[49m\u001b[43m \u001b[49m\u001b[43mdf\u001b[49m\u001b[43m[\u001b[49m\u001b[38;5;124;43m'\u001b[39;49m\u001b[38;5;124;43mdate_to\u001b[39;49m\u001b[38;5;124;43m'\u001b[39;49m\u001b[43m]\u001b[49m\u001b[38;5;241;43m.\u001b[39;49m\u001b[43mmax\u001b[49m\u001b[43m(\u001b[49m\u001b[43m)\u001b[49m\u001b[43m,\u001b[49m\u001b[43m \u001b[49m\u001b[43mfreq\u001b[49m\u001b[38;5;241;43m=\u001b[39;49m\u001b[43mfrequency\u001b[49m\u001b[43m)\u001b[49m\n\u001b[0;32m      6\u001b[0m     occupancy_df \u001b[38;5;241m=\u001b[39m pd\u001b[38;5;241m.\u001b[39mDataFrame(index\u001b[38;5;241m=\u001b[39mdate_range, columns\u001b[38;5;241m=\u001b[39m[\u001b[38;5;124m'\u001b[39m\u001b[38;5;124mtotal_occupancy\u001b[39m\u001b[38;5;124m'\u001b[39m])\n\u001b[0;32m      8\u001b[0m     \u001b[38;5;28;01mfor\u001b[39;00m _, reservation \u001b[38;5;129;01min\u001b[39;00m df\u001b[38;5;241m.\u001b[39miterrows():\n",
      "File \u001b[1;32m~\\AppData\\Local\\Packages\\PythonSoftwareFoundation.Python.3.11_qbz5n2kfra8p0\\LocalCache\\local-packages\\Python311\\site-packages\\pandas\\core\\indexes\\datetimes.py:945\u001b[0m, in \u001b[0;36mdate_range\u001b[1;34m(start, end, periods, freq, tz, normalize, name, inclusive, unit, **kwargs)\u001b[0m\n\u001b[0;32m    942\u001b[0m \u001b[38;5;28;01mif\u001b[39;00m freq \u001b[38;5;129;01mis\u001b[39;00m \u001b[38;5;28;01mNone\u001b[39;00m \u001b[38;5;129;01mand\u001b[39;00m com\u001b[38;5;241m.\u001b[39many_none(periods, start, end):\n\u001b[0;32m    943\u001b[0m     freq \u001b[38;5;241m=\u001b[39m \u001b[38;5;124m\"\u001b[39m\u001b[38;5;124mD\u001b[39m\u001b[38;5;124m\"\u001b[39m\n\u001b[1;32m--> 945\u001b[0m dtarr \u001b[38;5;241m=\u001b[39m \u001b[43mDatetimeArray\u001b[49m\u001b[38;5;241;43m.\u001b[39;49m\u001b[43m_generate_range\u001b[49m\u001b[43m(\u001b[49m\n\u001b[0;32m    946\u001b[0m \u001b[43m    \u001b[49m\u001b[43mstart\u001b[49m\u001b[38;5;241;43m=\u001b[39;49m\u001b[43mstart\u001b[49m\u001b[43m,\u001b[49m\n\u001b[0;32m    947\u001b[0m \u001b[43m    \u001b[49m\u001b[43mend\u001b[49m\u001b[38;5;241;43m=\u001b[39;49m\u001b[43mend\u001b[49m\u001b[43m,\u001b[49m\n\u001b[0;32m    948\u001b[0m \u001b[43m    \u001b[49m\u001b[43mperiods\u001b[49m\u001b[38;5;241;43m=\u001b[39;49m\u001b[43mperiods\u001b[49m\u001b[43m,\u001b[49m\n\u001b[0;32m    949\u001b[0m \u001b[43m    \u001b[49m\u001b[43mfreq\u001b[49m\u001b[38;5;241;43m=\u001b[39;49m\u001b[43mfreq\u001b[49m\u001b[43m,\u001b[49m\n\u001b[0;32m    950\u001b[0m \u001b[43m    \u001b[49m\u001b[43mtz\u001b[49m\u001b[38;5;241;43m=\u001b[39;49m\u001b[43mtz\u001b[49m\u001b[43m,\u001b[49m\n\u001b[0;32m    951\u001b[0m \u001b[43m    \u001b[49m\u001b[43mnormalize\u001b[49m\u001b[38;5;241;43m=\u001b[39;49m\u001b[43mnormalize\u001b[49m\u001b[43m,\u001b[49m\n\u001b[0;32m    952\u001b[0m \u001b[43m    \u001b[49m\u001b[43minclusive\u001b[49m\u001b[38;5;241;43m=\u001b[39;49m\u001b[43minclusive\u001b[49m\u001b[43m,\u001b[49m\n\u001b[0;32m    953\u001b[0m \u001b[43m    \u001b[49m\u001b[43munit\u001b[49m\u001b[38;5;241;43m=\u001b[39;49m\u001b[43munit\u001b[49m\u001b[43m,\u001b[49m\n\u001b[0;32m    954\u001b[0m \u001b[43m    \u001b[49m\u001b[38;5;241;43m*\u001b[39;49m\u001b[38;5;241;43m*\u001b[39;49m\u001b[43mkwargs\u001b[49m\u001b[43m,\u001b[49m\n\u001b[0;32m    955\u001b[0m \u001b[43m\u001b[49m\u001b[43m)\u001b[49m\n\u001b[0;32m    956\u001b[0m \u001b[38;5;28;01mreturn\u001b[39;00m DatetimeIndex\u001b[38;5;241m.\u001b[39m_simple_new(dtarr, name\u001b[38;5;241m=\u001b[39mname)\n",
      "File \u001b[1;32m~\\AppData\\Local\\Packages\\PythonSoftwareFoundation.Python.3.11_qbz5n2kfra8p0\\LocalCache\\local-packages\\Python311\\site-packages\\pandas\\core\\arrays\\datetimes.py:407\u001b[0m, in \u001b[0;36mDatetimeArray._generate_range\u001b[1;34m(cls, start, end, periods, freq, tz, normalize, ambiguous, nonexistent, inclusive, unit)\u001b[0m\n\u001b[0;32m    404\u001b[0m     end \u001b[38;5;241m=\u001b[39m Timestamp(end)\n\u001b[0;32m    406\u001b[0m \u001b[38;5;28;01mif\u001b[39;00m start \u001b[38;5;129;01mis\u001b[39;00m NaT \u001b[38;5;129;01mor\u001b[39;00m end \u001b[38;5;129;01mis\u001b[39;00m NaT:\n\u001b[1;32m--> 407\u001b[0m     \u001b[38;5;28;01mraise\u001b[39;00m \u001b[38;5;167;01mValueError\u001b[39;00m(\u001b[38;5;124m\"\u001b[39m\u001b[38;5;124mNeither `start` nor `end` can be NaT\u001b[39m\u001b[38;5;124m\"\u001b[39m)\n\u001b[0;32m    409\u001b[0m \u001b[38;5;28;01mif\u001b[39;00m unit \u001b[38;5;129;01mis\u001b[39;00m \u001b[38;5;129;01mnot\u001b[39;00m \u001b[38;5;28;01mNone\u001b[39;00m:\n\u001b[0;32m    410\u001b[0m     \u001b[38;5;28;01mif\u001b[39;00m unit \u001b[38;5;129;01mnot\u001b[39;00m \u001b[38;5;129;01min\u001b[39;00m [\u001b[38;5;124m\"\u001b[39m\u001b[38;5;124ms\u001b[39m\u001b[38;5;124m\"\u001b[39m, \u001b[38;5;124m\"\u001b[39m\u001b[38;5;124mms\u001b[39m\u001b[38;5;124m\"\u001b[39m, \u001b[38;5;124m\"\u001b[39m\u001b[38;5;124mus\u001b[39m\u001b[38;5;124m\"\u001b[39m, \u001b[38;5;124m\"\u001b[39m\u001b[38;5;124mns\u001b[39m\u001b[38;5;124m\"\u001b[39m]:\n",
      "\u001b[1;31mValueError\u001b[0m: Neither `start` nor `end` can be NaT"
     ]
    }
   ],
   "source": [
    "result_df1 = calculate_total_occupancy(df1)\n",
    "print(result_df1)"
   ]
  },
  {
   "cell_type": "code",
   "execution_count": null,
   "metadata": {},
   "outputs": [
    {
     "name": "stdout",
     "output_type": "stream",
     "text": [
      "      datum_dolaska total_occupancy\n",
      "0        2015-07-01            72.0\n",
      "28       2015-07-02           140.0\n",
      "54       2015-07-03           190.0\n",
      "77       2015-07-04           248.0\n",
      "100      2015-07-05           310.0\n",
      "...             ...             ...\n",
      "27580    2017-07-27           495.0\n",
      "27679    2017-07-30           501.0\n",
      "27737    2017-07-31           497.0\n",
      "27902    2017-08-05           530.0\n",
      "28717    2017-08-30           460.0\n",
      "\n",
      "[793 rows x 2 columns]\n"
     ]
    }
   ],
   "source": [
    "result_df2 = calculate_total_occupancy(df2)\n",
    "print(result_df2)"
   ]
  },
  {
   "cell_type": "markdown",
   "metadata": {},
   "source": [
    "Postavljam indekse radi eksportovanja"
   ]
  },
  {
   "cell_type": "code",
   "execution_count": null,
   "metadata": {},
   "outputs": [],
   "source": [
    "result_df1 = result_df1.set_index('datum_dolaska')\n",
    "result_df2 = result_df2.set_index('datum_dolaska')"
   ]
  },
  {
   "cell_type": "markdown",
   "metadata": {},
   "source": [
    "Napravite folder prep_data pre narednog cell-a"
   ]
  },
  {
   "cell_type": "code",
   "execution_count": null,
   "metadata": {},
   "outputs": [],
   "source": [
    "result_df2.to_csv('../prep_data/hotelid0_daily_occupancy.csv')\n",
    "result_df1.to_csv('../prep_data/hotelid1_daily_occupancy.csv')"
   ]
  },
  {
   "cell_type": "markdown",
   "metadata": {},
   "source": [
    "Sad treba isto uraditi za nedeljno i mesecno, naredni cell ce se dugo izvrsavati jer python a i kod mi nije najefikasniji i dalje, ali samo strpljivo"
   ]
  },
  {
   "cell_type": "code",
   "execution_count": null,
   "metadata": {},
   "outputs": [],
   "source": [
    "result_weekly_df1 = calculate_total_occupancy(df1, frequency='W-Mon') # W-Mon je za nedelje i da pocnu u ponedeljak\n",
    "result_monthly_df1 = calculate_total_occupancy(df1, frequency='M')\n",
    "\n",
    "result_weekly_df2 = calculate_total_occupancy(df2, frequency='W-Mon')\n",
    "result_monthly_df2 = calculate_total_occupancy(df2, frequency='M')"
   ]
  },
  {
   "cell_type": "code",
   "execution_count": null,
   "metadata": {},
   "outputs": [],
   "source": [
    "result_weekly_df1  = result_weekly_df1.set_index('datum_dolaska')\n",
    "result_monthly_df1 = result_monthly_df1.set_index('datum_dolaska')\n",
    "\n",
    "result_weekly_df2  = result_weekly_df2.set_index('datum_dolaska')\n",
    "result_monthly_df2 = result_monthly_df2.set_index('datum_dolaska')"
   ]
  },
  {
   "cell_type": "code",
   "execution_count": null,
   "metadata": {},
   "outputs": [
    {
     "data": {
      "text/html": [
       "<div>\n",
       "<style scoped>\n",
       "    .dataframe tbody tr th:only-of-type {\n",
       "        vertical-align: middle;\n",
       "    }\n",
       "\n",
       "    .dataframe tbody tr th {\n",
       "        vertical-align: top;\n",
       "    }\n",
       "\n",
       "    .dataframe thead th {\n",
       "        text-align: right;\n",
       "    }\n",
       "</style>\n",
       "<table border=\"1\" class=\"dataframe\">\n",
       "  <thead>\n",
       "    <tr style=\"text-align: right;\">\n",
       "      <th></th>\n",
       "      <th>total_occupancy</th>\n",
       "    </tr>\n",
       "    <tr>\n",
       "      <th>datum_dolaska</th>\n",
       "      <th></th>\n",
       "    </tr>\n",
       "  </thead>\n",
       "  <tbody>\n",
       "    <tr>\n",
       "      <th>2015-05-04</th>\n",
       "      <td>82.0</td>\n",
       "    </tr>\n",
       "    <tr>\n",
       "      <th>2015-05-11</th>\n",
       "      <td>165.0</td>\n",
       "    </tr>\n",
       "    <tr>\n",
       "      <th>2015-05-18</th>\n",
       "      <td>167.0</td>\n",
       "    </tr>\n",
       "    <tr>\n",
       "      <th>2015-07-20</th>\n",
       "      <td>56.0</td>\n",
       "    </tr>\n",
       "    <tr>\n",
       "      <th>2015-11-23</th>\n",
       "      <td>236.0</td>\n",
       "    </tr>\n",
       "  </tbody>\n",
       "</table>\n",
       "</div>"
      ],
      "text/plain": [
       "              total_occupancy\n",
       "datum_dolaska                \n",
       "2015-05-04               82.0\n",
       "2015-05-11              165.0\n",
       "2015-05-18              167.0\n",
       "2015-07-20               56.0\n",
       "2015-11-23              236.0"
      ]
     },
     "execution_count": 38,
     "metadata": {},
     "output_type": "execute_result"
    }
   ],
   "source": [
    "result_weekly_df1.head()"
   ]
  },
  {
   "cell_type": "code",
   "execution_count": null,
   "metadata": {},
   "outputs": [
    {
     "data": {
      "text/html": [
       "<div>\n",
       "<style scoped>\n",
       "    .dataframe tbody tr th:only-of-type {\n",
       "        vertical-align: middle;\n",
       "    }\n",
       "\n",
       "    .dataframe tbody tr th {\n",
       "        vertical-align: top;\n",
       "    }\n",
       "\n",
       "    .dataframe thead th {\n",
       "        text-align: right;\n",
       "    }\n",
       "</style>\n",
       "<table border=\"1\" class=\"dataframe\">\n",
       "  <thead>\n",
       "    <tr style=\"text-align: right;\">\n",
       "      <th></th>\n",
       "      <th>total_occupancy</th>\n",
       "    </tr>\n",
       "    <tr>\n",
       "      <th>datum_dolaska</th>\n",
       "      <th></th>\n",
       "    </tr>\n",
       "  </thead>\n",
       "  <tbody>\n",
       "    <tr>\n",
       "      <th>2015-11-30</th>\n",
       "      <td>241.0</td>\n",
       "    </tr>\n",
       "    <tr>\n",
       "      <th>2015-07-31</th>\n",
       "      <td>34.0</td>\n",
       "    </tr>\n",
       "    <tr>\n",
       "      <th>2015-05-31</th>\n",
       "      <td>95.0</td>\n",
       "    </tr>\n",
       "    <tr>\n",
       "      <th>2015-08-31</th>\n",
       "      <td>116.0</td>\n",
       "    </tr>\n",
       "    <tr>\n",
       "      <th>2015-01-31</th>\n",
       "      <td>9.0</td>\n",
       "    </tr>\n",
       "  </tbody>\n",
       "</table>\n",
       "</div>"
      ],
      "text/plain": [
       "              total_occupancy\n",
       "datum_dolaska                \n",
       "2015-11-30              241.0\n",
       "2015-07-31               34.0\n",
       "2015-05-31               95.0\n",
       "2015-08-31              116.0\n",
       "2015-01-31                9.0"
      ]
     },
     "execution_count": 39,
     "metadata": {},
     "output_type": "execute_result"
    }
   ],
   "source": [
    "result_monthly_df1.head()"
   ]
  },
  {
   "cell_type": "code",
   "execution_count": null,
   "metadata": {},
   "outputs": [],
   "source": [
    "df0_occupancy = pd.read_csv(\"../prep_data/hotelid0_daily_occupancy.csv\")\n",
    "df0_dataset = pd.read_csv(\"../prep_data/prepped0.csv\")\n",
    "\n",
    "df0_occupancy['datum_dolaska'] = pd.to_datetime(df0_occupancy['datum_dolaska'])\n",
    "df0_dataset['datum_dolaska'] = pd.to_datetime(df0_dataset['datum_dolaska'])\n",
    "\n",
    "df0 = pd.merge(df0_dataset, df0_occupancy, on='datum_dolaska', how='left')\n",
    "df0 = df0.drop(columns = [\"Unnamed: 0\", \"broj_gostiju\",\"index\",\"hotel_id\"])\n",
    "df0.to_csv('../prep_data/hotelid1_daily_merged.csv')"
   ]
  },
  {
   "cell_type": "code",
   "execution_count": null,
   "metadata": {},
   "outputs": [],
   "source": [
    "df1_occupancy = pd.read_csv(\"../prep_data/hotelid1_daily_occupancy.csv\")\n",
    "df1_dataset = pd.read_csv(\"../prep_data/prepped1.csv\")\n",
    "\n",
    "df1_occupancy['datum_dolaska'] = pd.to_datetime(df1_occupancy['datum_dolaska'])\n",
    "df1_dataset['datum_dolaska'] = pd.to_datetime(df1_dataset['datum_dolaska'])\n",
    "\n",
    "df1 = pd.merge(df1_dataset, df1_occupancy, on='datum_dolaska', how='left')\n",
    "df1 = df1.drop(columns = [\"Unnamed: 0\", \"broj_gostiju\",\"index\",\"hotel_id\"])\n",
    "df1.to_csv('../prep_data/hotelid1_daily_merged.csv')"
   ]
  }
 ],
 "metadata": {
  "kernelspec": {
   "display_name": "Python 3",
   "language": "python",
   "name": "python3"
  },
  "language_info": {
   "codemirror_mode": {
    "name": "ipython",
    "version": 3
   },
   "file_extension": ".py",
   "mimetype": "text/x-python",
   "name": "python",
   "nbconvert_exporter": "python",
   "pygments_lexer": "ipython3",
   "version": "3.11.9"
  }
 },
 "nbformat": 4,
 "nbformat_minor": 2
}
