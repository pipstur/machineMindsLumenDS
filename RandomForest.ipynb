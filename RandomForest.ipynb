{
 "cells": [
  {
   "cell_type": "code",
   "execution_count": 2,
   "metadata": {},
   "outputs": [],
   "source": [
    "import pandas as pd \n",
    "df = pd.read_csv(\"prep_data/hotelid0_daily_merged.csv\")"
   ]
  },
  {
   "cell_type": "code",
   "execution_count": 3,
   "metadata": {},
   "outputs": [
    {
     "name": "stdout",
     "output_type": "stream",
     "text": [
      "<class 'pandas.core.frame.DataFrame'>\n",
      "RangeIndex: 46084 entries, 0 to 46083\n",
      "Data columns (total 10 columns):\n",
      " #   Column               Non-Null Count  Dtype  \n",
      "---  ------               --------------  -----  \n",
      " 0   Unnamed: 0           46084 non-null  int64  \n",
      " 1   datum_dolaska        46084 non-null  object \n",
      " 2   datum_odjave         46084 non-null  object \n",
      " 3   kanal_prodaje_id     46084 non-null  int64  \n",
      " 4   tip_sobe_id          46084 non-null  int64  \n",
      " 5   cijena_nocenja       46084 non-null  float64\n",
      " 6   rezervacija_id       46084 non-null  int64  \n",
      " 7   gost_id              46084 non-null  int64  \n",
      " 8   zemlja_gosta_mapped  46084 non-null  int64  \n",
      " 9   total_occupancy      46084 non-null  float64\n",
      "dtypes: float64(2), int64(6), object(2)\n",
      "memory usage: 3.5+ MB\n"
     ]
    }
   ],
   "source": [
    "df.info()"
   ]
  },
  {
   "cell_type": "code",
   "execution_count": 4,
   "metadata": {},
   "outputs": [],
   "source": [
    "df = df.drop(columns=[\"Unnamed: 0\"], axis=1)"
   ]
  },
  {
   "cell_type": "markdown",
   "metadata": {},
   "source": [
    "Kako bi random forest algoritam mogao da razume vremenske serije moramo iz datuma izvuci odredjene podatke, kao sto je to u narednom cell-u"
   ]
  },
  {
   "cell_type": "code",
   "execution_count": 5,
   "metadata": {},
   "outputs": [],
   "source": [
    "df['datum_dolaska'] = pd.to_datetime(df['datum_dolaska'])\n",
    "df['datum_odjave'] = pd.to_datetime(df['datum_odjave'])\n",
    "\n",
    "df['day_of_week'] = df['datum_dolaska'].dt.day_of_week\n",
    "df['month'] = df['datum_dolaska'].dt.month\n",
    "df['year'] = df['datum_dolaska'].dt.year\n",
    "df['week_of_year'] = df['datum_dolaska'].dt.isocalendar().week\n",
    "df['week_of_month'] = df['datum_dolaska'].dt.day // 7 + 1"
   ]
  },
  {
   "cell_type": "code",
   "execution_count": 7,
   "metadata": {},
   "outputs": [
    {
     "data": {
      "text/html": [
       "<div>\n",
       "<style scoped>\n",
       "    .dataframe tbody tr th:only-of-type {\n",
       "        vertical-align: middle;\n",
       "    }\n",
       "\n",
       "    .dataframe tbody tr th {\n",
       "        vertical-align: top;\n",
       "    }\n",
       "\n",
       "    .dataframe thead th {\n",
       "        text-align: right;\n",
       "    }\n",
       "</style>\n",
       "<table border=\"1\" class=\"dataframe\">\n",
       "  <thead>\n",
       "    <tr style=\"text-align: right;\">\n",
       "      <th></th>\n",
       "      <th>datum_dolaska</th>\n",
       "      <th>datum_odjave</th>\n",
       "      <th>kanal_prodaje_id</th>\n",
       "      <th>tip_sobe_id</th>\n",
       "      <th>cijena_nocenja</th>\n",
       "      <th>rezervacija_id</th>\n",
       "      <th>gost_id</th>\n",
       "      <th>zemlja_gosta_mapped</th>\n",
       "      <th>total_occupancy</th>\n",
       "      <th>day_of_week</th>\n",
       "      <th>month</th>\n",
       "      <th>year</th>\n",
       "      <th>week_of_year</th>\n",
       "      <th>week_of_month</th>\n",
       "    </tr>\n",
       "  </thead>\n",
       "  <tbody>\n",
       "    <tr>\n",
       "      <th>46079</th>\n",
       "      <td>2017-08-30</td>\n",
       "      <td>2017-09-06</td>\n",
       "      <td>2</td>\n",
       "      <td>1</td>\n",
       "      <td>83.444595</td>\n",
       "      <td>1432428</td>\n",
       "      <td>1063376</td>\n",
       "      <td>13</td>\n",
       "      <td>359.0</td>\n",
       "      <td>2</td>\n",
       "      <td>8</td>\n",
       "      <td>2017</td>\n",
       "      <td>35</td>\n",
       "      <td>5</td>\n",
       "    </tr>\n",
       "    <tr>\n",
       "      <th>46080</th>\n",
       "      <td>2017-08-31</td>\n",
       "      <td>2017-09-07</td>\n",
       "      <td>2</td>\n",
       "      <td>3</td>\n",
       "      <td>201.924145</td>\n",
       "      <td>1432429</td>\n",
       "      <td>1088912</td>\n",
       "      <td>5</td>\n",
       "      <td>358.0</td>\n",
       "      <td>3</td>\n",
       "      <td>8</td>\n",
       "      <td>2017</td>\n",
       "      <td>35</td>\n",
       "      <td>5</td>\n",
       "    </tr>\n",
       "    <tr>\n",
       "      <th>46081</th>\n",
       "      <td>2017-08-31</td>\n",
       "      <td>2017-09-07</td>\n",
       "      <td>2</td>\n",
       "      <td>2</td>\n",
       "      <td>148.455148</td>\n",
       "      <td>1432430</td>\n",
       "      <td>1101990</td>\n",
       "      <td>12</td>\n",
       "      <td>358.0</td>\n",
       "      <td>3</td>\n",
       "      <td>8</td>\n",
       "      <td>2017</td>\n",
       "      <td>35</td>\n",
       "      <td>5</td>\n",
       "    </tr>\n",
       "    <tr>\n",
       "      <th>46082</th>\n",
       "      <td>2017-08-31</td>\n",
       "      <td>2017-09-07</td>\n",
       "      <td>2</td>\n",
       "      <td>1</td>\n",
       "      <td>101.498939</td>\n",
       "      <td>1432431</td>\n",
       "      <td>1053323</td>\n",
       "      <td>3</td>\n",
       "      <td>358.0</td>\n",
       "      <td>3</td>\n",
       "      <td>8</td>\n",
       "      <td>2017</td>\n",
       "      <td>35</td>\n",
       "      <td>5</td>\n",
       "    </tr>\n",
       "    <tr>\n",
       "      <th>46083</th>\n",
       "      <td>2017-10-29</td>\n",
       "      <td>2017-11-07</td>\n",
       "      <td>2</td>\n",
       "      <td>1</td>\n",
       "      <td>193.709372</td>\n",
       "      <td>1432432</td>\n",
       "      <td>1013647</td>\n",
       "      <td>13</td>\n",
       "      <td>360.0</td>\n",
       "      <td>6</td>\n",
       "      <td>10</td>\n",
       "      <td>2017</td>\n",
       "      <td>43</td>\n",
       "      <td>5</td>\n",
       "    </tr>\n",
       "  </tbody>\n",
       "</table>\n",
       "</div>"
      ],
      "text/plain": [
       "      datum_dolaska datum_odjave  kanal_prodaje_id  tip_sobe_id  \\\n",
       "46079    2017-08-30   2017-09-06                 2            1   \n",
       "46080    2017-08-31   2017-09-07                 2            3   \n",
       "46081    2017-08-31   2017-09-07                 2            2   \n",
       "46082    2017-08-31   2017-09-07                 2            1   \n",
       "46083    2017-10-29   2017-11-07                 2            1   \n",
       "\n",
       "       cijena_nocenja  rezervacija_id  gost_id  zemlja_gosta_mapped  \\\n",
       "46079       83.444595         1432428  1063376                   13   \n",
       "46080      201.924145         1432429  1088912                    5   \n",
       "46081      148.455148         1432430  1101990                   12   \n",
       "46082      101.498939         1432431  1053323                    3   \n",
       "46083      193.709372         1432432  1013647                   13   \n",
       "\n",
       "       total_occupancy  day_of_week  month  year  week_of_year  week_of_month  \n",
       "46079            359.0            2      8  2017            35              5  \n",
       "46080            358.0            3      8  2017            35              5  \n",
       "46081            358.0            3      8  2017            35              5  \n",
       "46082            358.0            3      8  2017            35              5  \n",
       "46083            360.0            6     10  2017            43              5  "
      ]
     },
     "execution_count": 7,
     "metadata": {},
     "output_type": "execute_result"
    }
   ],
   "source": [
    "df.tail()"
   ]
  },
  {
   "cell_type": "code",
   "execution_count": 8,
   "metadata": {},
   "outputs": [],
   "source": [
    "from sklearn.model_selection import train_test_split\n",
    "X = df.drop(columns=[\"total_occupancy\", \"datum_dolaska\", \"datum_odjave\"], axis=1)\n",
    "y = df[\"total_occupancy\"]\n",
    "X_train, X_test, y_train, y_test = train_test_split(X,y, train_size=0.8, random_state=27)"
   ]
  },
  {
   "cell_type": "code",
   "execution_count": 14,
   "metadata": {},
   "outputs": [
    {
     "name": "stdout",
     "output_type": "stream",
     "text": [
      "Mean Absolute Error (RF): 35.037949932220315\n",
      "Mean Squared Error (RF): 2564.5812868533008\n",
      "Root Mean Squared Error (RF): 50.64169514198059\n",
      "R2 (RF): 0.9587561367829432\n"
     ]
    }
   ],
   "source": [
    "from sklearn.ensemble import RandomForestRegressor\n",
    "import numpy as np \n",
    "from sklearn.metrics import mean_squared_error,  r2_score, mean_absolute_error\n",
    "\n",
    "rf_model = RandomForestRegressor(random_state=27, n_jobs=-1, min_samples_split =3, max_samples=800, n_estimators=73)\n",
    "rf_model.fit(X_train, y_train)\n",
    "y_pred = rf_model.predict(X_test)\n",
    "\n",
    "mae_rf = mean_absolute_error(y_test, y_pred)\n",
    "mse_rf = mean_squared_error(y_test, y_pred)\n",
    "rmse_rf = np.sqrt(mse_rf)\n",
    "r2_rf = r2_score(y_test, y_pred)\n",
    "\n",
    "print(f'Mean Absolute Error (RF): {mae_rf}')\n",
    "print(f'Mean Squared Error (RF): {mse_rf}')\n",
    "print(f'Root Mean Squared Error (RF): {rmse_rf}')\n",
    "print(f'R2 (RF): {r2_rf}')"
   ]
  },
  {
   "cell_type": "code",
   "execution_count": null,
   "metadata": {},
   "outputs": [],
   "source": [
    "import warnings\n",
    "from sklearn.model_selection import cross_val_score\n",
    "warnings.filterwarnings('ignore')\n",
    "\n",
    "\n",
    "for i in range(200,500):\n",
    "    for j in range(2000,2001):\n",
    "        model = RandomForestRegressor(n_estimators = i, max_samples =j,  random_state = 27, n_jobs=-1)\n",
    "        model.fit(X_train, y_train)\n",
    "        y_pred = model.predict(X_test)\n",
    "        print(\" n_estimators={}, max_samples={}, r2={}\".format(i, j,\n",
    "                                                                     r2_score(y_test, y_pred)\n",
    "                                                                    ))"
   ]
  },
  {
   "cell_type": "code",
   "execution_count": 8,
   "metadata": {},
   "outputs": [
    {
     "name": "stdout",
     "output_type": "stream",
     "text": [
      "Best Hyperparameters: {'n_estimators': 73, 'min_samples_split': 3, 'max_samples': 800}\n",
      "Best Mean Absolute Error: 25.731571263987075\n",
      "Mean Absolute Error on Test Data: 25.74575506447041\n",
      "R-squared on Test Data: 0.9687722750591333\n"
     ]
    }
   ],
   "source": [
    "from sklearn.model_selection import RandomizedSearchCV\n",
    "\n",
    "param_dist = {'n_estimators': list(range(1,100)), 'max_samples': list(range(1,1000)),'min_samples_split':list(range(1,11))}\n",
    "random_search = RandomizedSearchCV(RandomForestRegressor(random_state=27,n_jobs=-1), param_dist, n_iter=10, cv=5, scoring='neg_mean_absolute_error', random_state=27)\n",
    "random_search.fit(X_train, y_train)\n",
    "\n",
    "\n",
    "best_hyperparams = random_search.best_params_\n",
    "\n",
    "best_mae_score = -random_search.best_score_\n",
    "\n",
    "best_model = random_search.best_estimator_\n",
    "\n",
    "y_pred = best_model.predict(X_test)\n",
    "\n",
    "mae = mean_absolute_error(y_test, y_pred)\n",
    "r2 = r2_score(y_test, y_pred)\n",
    "\n",
    "print(f'Best Hyperparameters: {best_hyperparams}')\n",
    "print(f'Best Mean Absolute Error: {best_mae_score}')\n",
    "print(f'Mean Absolute Error on Test Data: {mae}')\n",
    "print(f'R-squared on Test Data: {r2}')"
   ]
  },
  {
   "cell_type": "code",
   "execution_count": 11,
   "metadata": {},
   "outputs": [
    {
     "name": "stdout",
     "output_type": "stream",
     "text": [
      "Cross-Validated Mean Absolute Error (RF): 69.99570126041124\n",
      "Cross-Validated R2 (RF): 0.6121913922099151\n"
     ]
    }
   ],
   "source": [
    "X = df.drop(columns=[\"total_occupancy\", \"datum_dolaska\", \"datum_odjave\"], axis=1)\n",
    "y = df[\"total_occupancy\"]\n",
    "\n",
    "rf_model = RandomForestRegressor(random_state=27, n_estimators= 73, min_samples_split= 3, max_samples= 800, n_jobs=-1)\n",
    "\n",
    "cv_scores_mae = cross_val_score(rf_model, X, y, cv=5, scoring='neg_mean_absolute_error')\n",
    "cv_scores_r2 = cross_val_score(rf_model, X, y, cv=5, scoring='r2')\n",
    "\n",
    "cv_scores_mae = -cv_scores_mae\n",
    "\n",
    "print(f'Cross-Validated Mean Absolute Error (RF): {cv_scores_mae.mean()}')\n",
    "print(f'Cross-Validated R2 (RF): {cv_scores_r2.mean()}')\n"
   ]
  },
  {
   "cell_type": "code",
   "execution_count": 28,
   "metadata": {},
   "outputs": [
    {
     "name": "stdout",
     "output_type": "stream",
     "text": [
      "Mean RMSE: 83.58908360440043\n",
      "Mean R2: 0.6636792280186012\n"
     ]
    }
   ],
   "source": [
    "from sklearn.model_selection import TimeSeriesSplit\n",
    "from sklearn.ensemble import RandomForestRegressor\n",
    "from sklearn.metrics import mean_squared_error\n",
    "import numpy as np\n",
    "\n",
    "tscv = TimeSeriesSplit(n_splits=5)\n",
    "\n",
    "model = RandomForestRegressor(random_state=27, n_jobs=-1, min_samples_split =3, max_samples=800, n_estimators=73)\n",
    "\n",
    "rmse_scores = []\n",
    "r2_scores = []\n",
    "\n",
    "for train_index, test_index in tscv.split(X):\n",
    "    X_train, X_test = X.iloc[train_index], X.iloc[test_index]\n",
    "    y_train, y_test = y.iloc[train_index], y.iloc[test_index]\n",
    "\n",
    "    model.fit(X_train, y_train)\n",
    "\n",
    "    y_pred = model.predict(X_test)\n",
    "\n",
    "    rmse = np.sqrt(mean_squared_error(y_test, y_pred))\n",
    "    r2 = r2_score(y_test, y_pred)\n",
    "    r2_scores.append(r2)\n",
    "    rmse_scores.append(rmse)\n",
    "\n",
    "print(\"Mean RMSE:\", np.mean(rmse_scores))\n",
    "print(\"Mean R2:\", np.mean(r2_scores))"
   ]
  },
  {
   "cell_type": "markdown",
   "metadata": {},
   "source": [
    "Sad testiramo "
   ]
  },
  {
   "cell_type": "code",
   "execution_count": 24,
   "metadata": {},
   "outputs": [
    {
     "name": "stdout",
     "output_type": "stream",
     "text": [
      "<class 'pandas.core.frame.DataFrame'>\n",
      "RangeIndex: 46084 entries, 0 to 46083\n",
      "Data columns (total 9 columns):\n",
      " #   Column               Non-Null Count  Dtype  \n",
      "---  ------               --------------  -----  \n",
      " 0   datum_dolaska        46084 non-null  object \n",
      " 1   datum_odjave         46084 non-null  object \n",
      " 2   kanal_prodaje_id     46084 non-null  int64  \n",
      " 3   tip_sobe_id          46084 non-null  int64  \n",
      " 4   cijena_nocenja       46084 non-null  float64\n",
      " 5   rezervacija_id       46084 non-null  int64  \n",
      " 6   gost_id              46084 non-null  int64  \n",
      " 7   zemlja_gosta_mapped  46084 non-null  int64  \n",
      " 8   total_occupancy      46084 non-null  float64\n",
      "dtypes: float64(2), int64(5), object(2)\n",
      "memory usage: 3.2+ MB\n"
     ]
    }
   ],
   "source": [
    "df1 = pd.read_csv(\"prep_data/hotelid1_daily_merged.csv\")\n",
    "df1 = df1.drop(columns=[\"Unnamed: 0\"], axis=1)\n",
    "df1.info()\n"
   ]
  },
  {
   "cell_type": "code",
   "execution_count": 25,
   "metadata": {},
   "outputs": [],
   "source": [
    "df1['datum_dolaska'] = pd.to_datetime(df1['datum_dolaska'])\n",
    "df1['datum_odjave'] = pd.to_datetime(df1['datum_odjave'])\n",
    "\n",
    "df1['day_of_week'] = df1['datum_dolaska'].dt.day_of_week\n",
    "df1['month'] = df1['datum_dolaska'].dt.month\n",
    "df1['year'] = df1['datum_dolaska'].dt.year\n",
    "df1['week_of_year'] = df1['datum_dolaska'].dt.isocalendar().week\n",
    "df1['week_of_month'] = df1['datum_dolaska'].dt.day // 7 + 1"
   ]
  },
  {
   "cell_type": "code",
   "execution_count": 26,
   "metadata": {},
   "outputs": [],
   "source": [
    "X = df.drop(columns=[\"total_occupancy\", \"datum_dolaska\", \"datum_odjave\"], axis=1)\n",
    "y = df[\"total_occupancy\"]"
   ]
  },
  {
   "cell_type": "code",
   "execution_count": 27,
   "metadata": {},
   "outputs": [
    {
     "name": "stdout",
     "output_type": "stream",
     "text": [
      "Mean Absolute Error (RF): 62.988344269289485\n",
      "Mean Squared Error (RF): 12802.941705360901\n",
      "Root Mean Squared Error (RF): 113.15008486678612\n",
      "R2 (RF): 0.7590229409389635\n"
     ]
    }
   ],
   "source": [
    "y_pred = rf_model.predict(X)\n",
    "\n",
    "mae_rf = mean_absolute_error(y, y_pred)\n",
    "mse_rf = mean_squared_error(y, y_pred)\n",
    "rmse_rf = np.sqrt(mse_rf)\n",
    "r2_rf = r2_score(y, y_pred)\n",
    "\n",
    "print(f'Mean Absolute Error (RF): {mae_rf}')\n",
    "print(f'Mean Squared Error (RF): {mse_rf}')\n",
    "print(f'Root Mean Squared Error (RF): {rmse_rf}')\n",
    "print(f'R2 (RF): {r2_rf}')"
   ]
  },
  {
   "cell_type": "markdown",
   "metadata": {},
   "source": [
    "Ovo zapravo nije uopste lose, brinuo sam se hoce li model overfittovati jer ako je r2 vrednost kao u prvom slucaju preko 90% to je mozda znak da model zbog svoje kompleksnosti moze bukvalno da upamti slucajeve, ali izgleda da je okej i nad podacima koje nikako nije mogao videti, a to su ovi za drugi dataset, sto znaci da smo solidni wooohoo."
   ]
  }
 ],
 "metadata": {
  "kernelspec": {
   "display_name": "Python 3",
   "language": "python",
   "name": "python3"
  },
  "language_info": {
   "codemirror_mode": {
    "name": "ipython",
    "version": 3
   },
   "file_extension": ".py",
   "mimetype": "text/x-python",
   "name": "python",
   "nbconvert_exporter": "python",
   "pygments_lexer": "ipython3",
   "version": "3.10.7"
  }
 },
 "nbformat": 4,
 "nbformat_minor": 2
}
