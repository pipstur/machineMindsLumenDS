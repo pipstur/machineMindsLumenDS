{
 "cells": [
  {
   "cell_type": "code",
   "execution_count": 1,
   "metadata": {},
   "outputs": [],
   "source": [
    "import pandas as pd \n",
    "df = pd.read_csv(\"prep_data/hotelid0_daily_merged.csv\")"
   ]
  },
  {
   "cell_type": "code",
   "execution_count": 2,
   "metadata": {},
   "outputs": [
    {
     "name": "stdout",
     "output_type": "stream",
     "text": [
      "<class 'pandas.core.frame.DataFrame'>\n",
      "RangeIndex: 46084 entries, 0 to 46083\n",
      "Data columns (total 10 columns):\n",
      " #   Column               Non-Null Count  Dtype  \n",
      "---  ------               --------------  -----  \n",
      " 0   Unnamed: 0           46084 non-null  int64  \n",
      " 1   datum_dolaska        46084 non-null  object \n",
      " 2   datum_odjave         46084 non-null  object \n",
      " 3   kanal_prodaje_id     46084 non-null  int64  \n",
      " 4   tip_sobe_id          46084 non-null  int64  \n",
      " 5   cijena_nocenja       46084 non-null  float64\n",
      " 6   rezervacija_id       46084 non-null  int64  \n",
      " 7   gost_id              46084 non-null  int64  \n",
      " 8   zemlja_gosta_mapped  46084 non-null  int64  \n",
      " 9   total_occupancy      46084 non-null  float64\n",
      "dtypes: float64(2), int64(6), object(2)\n",
      "memory usage: 3.5+ MB\n"
     ]
    }
   ],
   "source": [
    "df.info()"
   ]
  },
  {
   "cell_type": "code",
   "execution_count": 3,
   "metadata": {},
   "outputs": [],
   "source": [
    "df = df.drop(columns=[\"Unnamed: 0\"], axis=1)"
   ]
  },
  {
   "cell_type": "markdown",
   "metadata": {},
   "source": [
    "Kako bi random forest algoritam mogao da razume vremenske serije moramo iz datuma izvuci odredjene podatke, kao sto je to u narednom cell-u"
   ]
  },
  {
   "cell_type": "code",
   "execution_count": 4,
   "metadata": {},
   "outputs": [],
   "source": [
    "df['datum_dolaska'] = pd.to_datetime(df['datum_dolaska'])\n",
    "df['datum_odjave'] = pd.to_datetime(df['datum_odjave'])\n",
    "\n",
    "df['day_of_week'] = df['datum_dolaska'].dt.day_of_week\n",
    "df['month'] = df['datum_dolaska'].dt.month\n",
    "df['year'] = df['datum_dolaska'].dt.year\n",
    "df['week_of_year'] = df['datum_dolaska'].dt.isocalendar().week\n",
    "df['week_of_month'] = df['datum_dolaska'].dt.day // 7 + 1"
   ]
  },
  {
   "cell_type": "code",
   "execution_count": 5,
   "metadata": {},
   "outputs": [],
   "source": [
    "from sklearn.model_selection import train_test_split\n",
    "X = df.drop(columns=[\"total_occupancy\", \"datum_dolaska\", \"datum_odjave\"], axis=1)\n",
    "y = df[\"total_occupancy\"]\n",
    "X_train, X_test, y_train, y_test = train_test_split(X,y, train_size=0.8, random_state=27)"
   ]
  },
  {
   "cell_type": "code",
   "execution_count": 12,
   "metadata": {},
   "outputs": [
    {
     "name": "stdout",
     "output_type": "stream",
     "text": [
      "Mean Absolute Error (RF): 25.74575506447041\n",
      "Mean Squared Error (RF): 1656.4430708414397\n",
      "Root Mean Squared Error (RF): 40.699423470627195\n",
      "R2 (RF): 0.9687722750591333\n"
     ]
    }
   ],
   "source": [
    "from sklearn.ensemble import RandomForestRegressor\n",
    "import numpy as np \n",
    "from sklearn.metrics import mean_squared_error,  r2_score, mean_absolute_error\n",
    "\n",
    "rf_model = RandomForestRegressor(random_state=27, n_jobs=-1, min_samples_split =3, max_samples=800, n_estimators=73)\n",
    "rf_model.fit(X_train, y_train)\n",
    "y_pred = rf_model.predict(X_test)\n",
    "\n",
    "mae_rf = mean_absolute_error(y_test, y_pred)\n",
    "mse_rf = mean_squared_error(y_test, y_pred)\n",
    "rmse_rf = np.sqrt(mse_rf)\n",
    "r2_rf = r2_score(y_test, y_pred)\n",
    "\n",
    "print(f'Mean Absolute Error (RF): {mae_rf}')\n",
    "print(f'Mean Squared Error (RF): {mse_rf}')\n",
    "print(f'Root Mean Squared Error (RF): {rmse_rf}')\n",
    "print(f'R2 (RF): {r2_rf}')"
   ]
  },
  {
   "cell_type": "code",
   "execution_count": null,
   "metadata": {},
   "outputs": [],
   "source": [
    "import warnings\n",
    "from sklearn.model_selection import cross_val_score\n",
    "warnings.filterwarnings('ignore')\n",
    "\n",
    "\n",
    "for i in range(200,500):\n",
    "    for j in range(2000,2001):\n",
    "        model = RandomForestRegressor(n_estimators = i, max_samples =j,  random_state = 27, n_jobs=-1)\n",
    "        model.fit(X_train, y_train)\n",
    "        y_pred = model.predict(X_test)\n",
    "        print(\" n_estimators={}, max_samples={}, r2={}\".format(i, j,\n",
    "                                                                     r2_score(y_test, y_pred)\n",
    "                                                                    ))"
   ]
  },
  {
   "cell_type": "code",
   "execution_count": 8,
   "metadata": {},
   "outputs": [
    {
     "name": "stdout",
     "output_type": "stream",
     "text": [
      "Best Hyperparameters: {'n_estimators': 73, 'min_samples_split': 3, 'max_samples': 800}\n",
      "Best Mean Absolute Error: 25.731571263987075\n",
      "Mean Absolute Error on Test Data: 25.74575506447041\n",
      "R-squared on Test Data: 0.9687722750591333\n"
     ]
    }
   ],
   "source": [
    "from sklearn.model_selection import RandomizedSearchCV\n",
    "\n",
    "param_dist = {'n_estimators': list(range(1,100)), 'max_samples': list(range(1,1000)),'min_samples_split':list(range(1,11))}\n",
    "random_search = RandomizedSearchCV(RandomForestRegressor(random_state=27,n_jobs=-1), param_dist, n_iter=10, cv=5, scoring='neg_mean_absolute_error', random_state=27)\n",
    "random_search.fit(X_train, y_train)\n",
    "\n",
    "\n",
    "best_hyperparams = random_search.best_params_\n",
    "\n",
    "best_mae_score = -random_search.best_score_\n",
    "\n",
    "best_model = random_search.best_estimator_\n",
    "\n",
    "y_pred = best_model.predict(X_test)\n",
    "\n",
    "mae = mean_absolute_error(y_test, y_pred)\n",
    "r2 = r2_score(y_test, y_pred)\n",
    "\n",
    "print(f'Best Hyperparameters: {best_hyperparams}')\n",
    "print(f'Best Mean Absolute Error: {best_mae_score}')\n",
    "print(f'Mean Absolute Error on Test Data: {mae}')\n",
    "print(f'R-squared on Test Data: {r2}')"
   ]
  },
  {
   "cell_type": "code",
   "execution_count": 11,
   "metadata": {},
   "outputs": [
    {
     "name": "stdout",
     "output_type": "stream",
     "text": [
      "Cross-Validated Mean Absolute Error (RF): 69.99570126041124\n",
      "Cross-Validated R2 (RF): 0.6121913922099151\n"
     ]
    }
   ],
   "source": [
    "X = df.drop(columns=[\"total_occupancy\", \"datum_dolaska\", \"datum_odjave\"], axis=1)\n",
    "y = df[\"total_occupancy\"]\n",
    "\n",
    "rf_model = RandomForestRegressor(random_state=27, n_estimators= 73, min_samples_split= 3, max_samples= 800, n_jobs=-1)  # Set n_estimators accordingly\n",
    "\n",
    "cv_scores_mae = cross_val_score(rf_model, X, y, cv=5, scoring='neg_mean_absolute_error')\n",
    "cv_scores_r2 = cross_val_score(rf_model, X, y, cv=5, scoring='r2')\n",
    "\n",
    "cv_scores_mae = -cv_scores_mae\n",
    "\n",
    "print(f'Cross-Validated Mean Absolute Error (RF): {cv_scores_mae.mean()}')\n",
    "print(f'Cross-Validated R2 (RF): {cv_scores_r2.mean()}')\n"
   ]
  }
 ],
 "metadata": {
  "kernelspec": {
   "display_name": "Python 3",
   "language": "python",
   "name": "python3"
  },
  "language_info": {
   "codemirror_mode": {
    "name": "ipython",
    "version": 3
   },
   "file_extension": ".py",
   "mimetype": "text/x-python",
   "name": "python",
   "nbconvert_exporter": "python",
   "pygments_lexer": "ipython3",
   "version": "3.10.7"
  }
 },
 "nbformat": 4,
 "nbformat_minor": 2
}
